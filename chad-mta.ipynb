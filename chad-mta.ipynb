{
 "cells": [
  {
   "cell_type": "code",
   "execution_count": 1,
   "metadata": {},
   "outputs": [],
   "source": [
    "import pandas as pd\n",
    "import numpy as np\n",
    "import datetime as DT\n"
   ]
  },
  {
   "cell_type": "code",
   "execution_count": 2,
   "metadata": {},
   "outputs": [
    {
     "name": "stdout",
     "output_type": "stream",
     "text": [
      "http://web.mta.info/developers/data/nyct/turnstile/turnstile_181201.txt\n",
      "http://web.mta.info/developers/data/nyct/turnstile/turnstile_181124.txt\n",
      "http://web.mta.info/developers/data/nyct/turnstile/turnstile_181117.txt\n",
      "http://web.mta.info/developers/data/nyct/turnstile/turnstile_181110.txt\n",
      "http://web.mta.info/developers/data/nyct/turnstile/turnstile_181103.txt\n",
      "http://web.mta.info/developers/data/nyct/turnstile/turnstile_181027.txt\n",
      "http://web.mta.info/developers/data/nyct/turnstile/turnstile_181020.txt\n",
      "http://web.mta.info/developers/data/nyct/turnstile/turnstile_181013.txt\n",
      "http://web.mta.info/developers/data/nyct/turnstile/turnstile_181006.txt\n",
      "http://web.mta.info/developers/data/nyct/turnstile/turnstile_180929.txt\n"
     ]
    }
   ],
   "source": [
    "start_date = DT.date(2018, 12, 1)\n",
    "\n",
    "for i in range(10):\n",
    "    url_head = 'http://web.mta.info/developers/data/nyct/turnstile/turnstile_'\n",
    "    days_before = start_date - DT.timedelta(days=7)\n",
    "    url_tail = start_date.strftime(\"%y%m%d\")\n",
    "    url = url_head + url_tail + \".txt\"\n",
    "    start_date = days_before\n",
    "    print(url)\n",
    "# {date: date {total_entries: ,  total_exits: }"
   ]
  },
  {
   "cell_type": "code",
   "execution_count": 3,
   "metadata": {},
   "outputs": [],
   "source": [
    "\n",
    "doc = pd.read_csv('http://web.mta.info/developers/data/nyct/turnstile/turnstile_181201.txt')\n",
    "# rector_st_turnstiles = doc.loc[doc['STATION'] == 'BOWLING GREEN'].loc[doc['DATE'] == '11/30/2018']\n",
    "# set(rector_st_turnstiles.SCP)\n",
    "# turnstile_1 = doc.loc[doc['STATION'] == 'RECTOR ST'].loc[doc['DATE'] == '11/30/2018'].loc[doc['SCP']=='00-06-01'].loc[doc['LINENAME'] == '1']\n",
    "# turnstile_1\n",
    "# turnstile_1.sort_values(by='TIME')\n",
    "\n",
    "# first_entry_set = turnstile_1.sort_values(by='TIME')\n",
    "# last_entry_set = turnstile_1.sort_values(by='TIME')\n",
    "\n",
    "# first_entry_set"
   ]
  },
  {
   "cell_type": "code",
   "execution_count": 4,
   "metadata": {},
   "outputs": [
    {
     "data": {
      "text/html": [
       "<div>\n",
       "<style scoped>\n",
       "    .dataframe tbody tr th:only-of-type {\n",
       "        vertical-align: middle;\n",
       "    }\n",
       "\n",
       "    .dataframe tbody tr th {\n",
       "        vertical-align: top;\n",
       "    }\n",
       "\n",
       "    .dataframe thead th {\n",
       "        text-align: right;\n",
       "    }\n",
       "</style>\n",
       "<table border=\"1\" class=\"dataframe\">\n",
       "  <thead>\n",
       "    <tr style=\"text-align: right;\">\n",
       "      <th></th>\n",
       "      <th>C/A</th>\n",
       "      <th>UNIT</th>\n",
       "      <th>SCP</th>\n",
       "      <th>STATION</th>\n",
       "      <th>LINENAME</th>\n",
       "      <th>DIVISION</th>\n",
       "      <th>DATE</th>\n",
       "      <th>TIME</th>\n",
       "      <th>DESC</th>\n",
       "      <th>ENTRIES</th>\n",
       "      <th>EXITS</th>\n",
       "    </tr>\n",
       "  </thead>\n",
       "  <tbody>\n",
       "    <tr>\n",
       "      <th>0</th>\n",
       "      <td>A002</td>\n",
       "      <td>R051</td>\n",
       "      <td>02-00-00</td>\n",
       "      <td>59 ST</td>\n",
       "      <td>NQR456W</td>\n",
       "      <td>BMT</td>\n",
       "      <td>11/24/2018</td>\n",
       "      <td>03:00:00</td>\n",
       "      <td>REGULAR</td>\n",
       "      <td>6845468</td>\n",
       "      <td>2321627</td>\n",
       "    </tr>\n",
       "    <tr>\n",
       "      <th>1</th>\n",
       "      <td>A002</td>\n",
       "      <td>R051</td>\n",
       "      <td>02-00-00</td>\n",
       "      <td>59 ST</td>\n",
       "      <td>NQR456W</td>\n",
       "      <td>BMT</td>\n",
       "      <td>11/24/2018</td>\n",
       "      <td>07:00:00</td>\n",
       "      <td>RECOVR AUD</td>\n",
       "      <td>6845479</td>\n",
       "      <td>2321635</td>\n",
       "    </tr>\n",
       "    <tr>\n",
       "      <th>2</th>\n",
       "      <td>A002</td>\n",
       "      <td>R051</td>\n",
       "      <td>02-00-00</td>\n",
       "      <td>59 ST</td>\n",
       "      <td>NQR456W</td>\n",
       "      <td>BMT</td>\n",
       "      <td>11/24/2018</td>\n",
       "      <td>11:00:00</td>\n",
       "      <td>RECOVR AUD</td>\n",
       "      <td>6845578</td>\n",
       "      <td>2321702</td>\n",
       "    </tr>\n",
       "    <tr>\n",
       "      <th>3</th>\n",
       "      <td>A002</td>\n",
       "      <td>R051</td>\n",
       "      <td>02-00-00</td>\n",
       "      <td>59 ST</td>\n",
       "      <td>NQR456W</td>\n",
       "      <td>BMT</td>\n",
       "      <td>11/24/2018</td>\n",
       "      <td>15:00:00</td>\n",
       "      <td>RECOVR AUD</td>\n",
       "      <td>6845780</td>\n",
       "      <td>2321753</td>\n",
       "    </tr>\n",
       "    <tr>\n",
       "      <th>4</th>\n",
       "      <td>A002</td>\n",
       "      <td>R051</td>\n",
       "      <td>02-00-00</td>\n",
       "      <td>59 ST</td>\n",
       "      <td>NQR456W</td>\n",
       "      <td>BMT</td>\n",
       "      <td>11/24/2018</td>\n",
       "      <td>19:00:00</td>\n",
       "      <td>REGULAR</td>\n",
       "      <td>6846083</td>\n",
       "      <td>2321818</td>\n",
       "    </tr>\n",
       "  </tbody>\n",
       "</table>\n",
       "</div>"
      ],
      "text/plain": [
       "    C/A  UNIT       SCP STATION LINENAME DIVISION        DATE      TIME  \\\n",
       "0  A002  R051  02-00-00   59 ST  NQR456W      BMT  11/24/2018  03:00:00   \n",
       "1  A002  R051  02-00-00   59 ST  NQR456W      BMT  11/24/2018  07:00:00   \n",
       "2  A002  R051  02-00-00   59 ST  NQR456W      BMT  11/24/2018  11:00:00   \n",
       "3  A002  R051  02-00-00   59 ST  NQR456W      BMT  11/24/2018  15:00:00   \n",
       "4  A002  R051  02-00-00   59 ST  NQR456W      BMT  11/24/2018  19:00:00   \n",
       "\n",
       "         DESC  ENTRIES  \\\n",
       "0     REGULAR  6845468   \n",
       "1  RECOVR AUD  6845479   \n",
       "2  RECOVR AUD  6845578   \n",
       "3  RECOVR AUD  6845780   \n",
       "4     REGULAR  6846083   \n",
       "\n",
       "   EXITS                                                                 \n",
       "0                                            2321627                     \n",
       "1                                            2321635                     \n",
       "2                                            2321702                     \n",
       "3                                            2321753                     \n",
       "4                                            2321818                     "
      ]
     },
     "execution_count": 4,
     "metadata": {},
     "output_type": "execute_result"
    }
   ],
   "source": [
    "doc.head()\n"
   ]
  },
  {
   "cell_type": "code",
   "execution_count": 5,
   "metadata": {},
   "outputs": [
    {
     "data": {
      "text/plain": [
       "<pandas.core.groupby.groupby.DataFrameGroupBy object at 0x11b9dd1d0>"
      ]
     },
     "execution_count": 5,
     "metadata": {},
     "output_type": "execute_result"
    }
   ],
   "source": [
    "# doc.groupby(\"DATE\")"
   ]
  },
  {
   "cell_type": "code",
   "execution_count": 13,
   "metadata": {},
   "outputs": [],
   "source": [
    "bg_all = doc[doc.STATION == 'BOWLING GREEN']"
   ]
  },
  {
   "cell_type": "code",
   "execution_count": 209,
   "metadata": {},
   "outputs": [],
   "source": [
    "# bg_all.head()\n",
    "# bg_all.columns"
   ]
  },
  {
   "cell_type": "code",
   "execution_count": 26,
   "metadata": {},
   "outputs": [
    {
     "name": "stderr",
     "output_type": "stream",
     "text": [
      "/anaconda3/lib/python3.7/site-packages/pandas/core/frame.py:3781: SettingWithCopyWarning: \n",
      "A value is trying to be set on a copy of a slice from a DataFrame\n",
      "\n",
      "See the caveats in the documentation: http://pandas.pydata.org/pandas-docs/stable/indexing.html#indexing-view-versus-copy\n",
      "  return super(DataFrame, self).rename(**kwargs)\n"
     ]
    },
    {
     "data": {
      "text/plain": [
       "Index(['C/A', 'UNIT', 'SCP', 'STATION', 'LINENAME', 'DIVISION', 'DATE', 'TIME',\n",
       "       'DESC', 'ENTRIES', 'EXITS'],\n",
       "      dtype='object')"
      ]
     },
     "execution_count": 26,
     "metadata": {},
     "output_type": "execute_result"
    }
   ],
   "source": [
    "bg_all.rename(columns={'EXITS                                                               ': \"EXITS\"}, inplace = True)\n",
    "# bg_all.columns"
   ]
  },
  {
   "cell_type": "code",
   "execution_count": 187,
   "metadata": {},
   "outputs": [
    {
     "data": {
      "text/plain": [
       "array(['00-00-00', '00-00-01', '00-00-02', '00-00-03', '00-03-00',\n",
       "       '00-03-01', '00-03-02', '00-03-03', '00-03-04', '00-05-00',\n",
       "       '00-05-01', '00-06-00', '00-06-01', '00-06-02', '01-00-00',\n",
       "       '01-00-01', '01-00-02', '01-00-03', '01-00-04', '01-00-05',\n",
       "       '01-00-06', '01-00-07', '01-05-00', '01-05-01'], dtype=object)"
      ]
     },
     "execution_count": 187,
     "metadata": {},
     "output_type": "execute_result"
    }
   ],
   "source": [
    "# bg_all.shape\n",
    "# stiles"
   ]
  },
  {
   "cell_type": "code",
   "execution_count": 217,
   "metadata": {},
   "outputs": [],
   "source": [
    "bg_sliced = bg_all[['DATE', 'SCP', 'TIME', 'ENTRIES', 'EXITS']]\n",
    "bg_grouped = bg_sliced.groupby(['DATE', 'SCP', 'TIME']).sum()\n",
    "# stiles_index = bg_grouped.reset_index()\n",
    "new_df = bg_grouped.reset_index()\n",
    "# new_df"
   ]
  },
  {
   "cell_type": "code",
   "execution_count": 173,
   "metadata": {},
   "outputs": [
    {
     "data": {
      "text/plain": [
       "337"
      ]
     },
     "execution_count": 173,
     "metadata": {},
     "output_type": "execute_result"
    }
   ],
   "source": [
    "# stiles_index = stiles.reset_index()\n",
    "# stiles_index \n",
    "# stiles_index[['DATE' == 11/24/2018, 'TIME' == \"03:00:00\"]]\n",
    "# stiles.count()\n",
    "# stiles_index['DATE'].map(lambda x: 'Good' if any([word in x.lower() for word in ['awesome', 'love', 'good', 'great']]) else 'Bad').head()\n",
    "# stiles_index.loc[:, :]\n",
    "# test = stiles_index[(stiles_index.DATE == '11/24/2018') & (stiles_index.SCP == '00-00-01')]\n",
    "# test.ENTRIES[5] - test.ENTRIES[0] \n",
    "# test[test.TIME == '23:00:00'].iloc[0,4] - test[test.TIME == '03:00:00'].iloc[0,4]\n",
    "# test[test.TIME == '23:00:00'].iloc[0,3] - test[test.TIME == '03:00:00'].iloc[0,3]"
   ]
  },
  {
   "cell_type": "code",
   "execution_count": null,
   "metadata": {},
   "outputs": [],
   "source": [
    "doc = pd.read_csv('http://web.mta.info/developers/data/nyct/turnstile/turnstile_181201.txt')\n",
    "\n",
    "bg_all = doc[doc.STATION == 'BOWLING GREEN']\n",
    "bg_all.rename(columns={'EXITS                                                               ': \"EXITS\"}, inplace = True)\n",
    "\n",
    "bg_sliced = bg_all[['DATE', 'SCP', 'TIME', 'ENTRIES', 'EXITS']]\n",
    "bg_grouped = bg_sliced.groupby(['DATE', 'SCP', 'TIME']).sum()\n",
    "# stiles_index = bg_grouped.reset_index()\n",
    "new_df = bg_grouped.reset_index()\n",
    "# new_df"
   ]
  },
  {
   "cell_type": "code",
   "execution_count": 215,
   "metadata": {},
   "outputs": [],
   "source": [
    "# import pdb \n",
    "stiles = new_df.SCP.unique()\n",
    "dates = new_df.DATE.unique()\n",
    "\n",
    "e_e_dict = dict.fromkeys(dates)\n",
    "for k in e_e_dict: \n",
    "    e_e_dict[k] =  {'ENTRIES': 0, 'EXITS': 0}\n",
    "\n",
    "for date in dates: \n",
    "    date_entries = 0 \n",
    "    date_exits = 0 \n",
    "    for stile in stiles: \n",
    "        test = stiles_index[(stiles_index.DATE == date) & (stiles_index.SCP == stile)]\n",
    "        entries =  test[test.TIME == '23:00:00'].iloc[0,3] - test[test.TIME == '03:00:00'].iloc[0,3]\n",
    "        exits = test[test.TIME == '23:00:00'].iloc[0,4] - test[test.TIME == '03:00:00'].iloc[0,4]\n",
    "        date_entries += entries \n",
    "        date_exits += exits \n",
    "        e_e_dict[date]['ENTRIES'] = date_entries \n",
    "        e_e_dict[date]['EXITS'] = date_exits"
   ]
  },
  {
   "cell_type": "markdown",
   "metadata": {},
   "source": [
    "{'11/24/2018': {'ENTRIES': 6725, 'EXITS': 5047}, '11/25/2018': {'ENTRIES': 5445, 'EXITS': 4473}, '11/26/2018': {'ENTRIES': 28650, 'EXITS': 24525}, '11/27/2018': {'ENTRIES': 32353, 'EXITS': 27731}, '11/28/2018': {'ENTRIES': 31074, 'EXITS': 27136}, '11/29/2018': {'ENTRIES': 31748, 'EXITS': 27544}, '11/30/2018': {'ENTRIES': 29433, 'EXITS': 25669}}\n"
   ]
  },
  {
   "cell_type": "code",
   "execution_count": 216,
   "metadata": {},
   "outputs": [
    {
     "data": {
      "text/plain": [
       "{'11/24/2018': {'ENTRIES': 6725, 'EXITS': 5047},\n",
       " '11/25/2018': {'ENTRIES': 5445, 'EXITS': 4473},\n",
       " '11/26/2018': {'ENTRIES': 28650, 'EXITS': 24525},\n",
       " '11/27/2018': {'ENTRIES': 32353, 'EXITS': 27731},\n",
       " '11/28/2018': {'ENTRIES': 31074, 'EXITS': 27136},\n",
       " '11/29/2018': {'ENTRIES': 31748, 'EXITS': 27544},\n",
       " '11/30/2018': {'ENTRIES': 29433, 'EXITS': 25669}}"
      ]
     },
     "execution_count": 216,
     "metadata": {},
     "output_type": "execute_result"
    }
   ],
   "source": [
    "e_e_dict"
   ]
  },
  {
   "cell_type": "code",
   "execution_count": null,
   "metadata": {},
   "outputs": [],
   "source": []
  },
  {
   "cell_type": "code",
   "execution_count": null,
   "metadata": {},
   "outputs": [],
   "source": []
  }
 ],
 "metadata": {
  "kernelspec": {
   "display_name": "Python 3",
   "language": "python",
   "name": "python3"
  },
  "language_info": {
   "codemirror_mode": {
    "name": "ipython",
    "version": 3
   },
   "file_extension": ".py",
   "mimetype": "text/x-python",
   "name": "python",
   "nbconvert_exporter": "python",
   "pygments_lexer": "ipython3",
   "version": "3.7.0"
  }
 },
 "nbformat": 4,
 "nbformat_minor": 2
}
