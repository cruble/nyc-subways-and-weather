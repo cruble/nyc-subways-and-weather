{
 "cells": [
  {
   "cell_type": "code",
   "execution_count": 1,
   "metadata": {},
   "outputs": [
    {
     "name": "stdout",
     "output_type": "stream",
     "text": [
      "2018-12-04\n"
     ]
    }
   ],
   "source": [
    "import datetime as DT\n",
    "# today = DT.date.today()\n",
    "# week_ago = today - DT.timedelta(days=7)\n",
    "# print(today)"
   ]
  },
  {
   "cell_type": "code",
   "execution_count": 20,
   "metadata": {},
   "outputs": [
    {
     "name": "stdout",
     "output_type": "stream",
     "text": [
      "http://web.mta.info/developers/data/nyct/turnstile/turnstile_181201.txt\n",
      "http://web.mta.info/developers/data/nyct/turnstile/turnstile_181124.txt\n",
      "http://web.mta.info/developers/data/nyct/turnstile/turnstile_181117.txt\n",
      "http://web.mta.info/developers/data/nyct/turnstile/turnstile_181110.txt\n",
      "http://web.mta.info/developers/data/nyct/turnstile/turnstile_181103.txt\n",
      "http://web.mta.info/developers/data/nyct/turnstile/turnstile_181027.txt\n",
      "http://web.mta.info/developers/data/nyct/turnstile/turnstile_181020.txt\n",
      "http://web.mta.info/developers/data/nyct/turnstile/turnstile_181013.txt\n",
      "http://web.mta.info/developers/data/nyct/turnstile/turnstile_181006.txt\n",
      "http://web.mta.info/developers/data/nyct/turnstile/turnstile_180929.txt\n"
     ]
    }
   ],
   "source": [
    "# print(week_ago)\n",
    "start_date = DT.date(2018, 12, 1)\n",
    "\n",
    "for i in range(10):\n",
    "    url_head = 'http://web.mta.info/developers/data/nyct/turnstile/turnstile_'\n",
    "    days_before = start_date - DT.timedelta(days=7)\n",
    "    url_tail = start_date.strftime(\"%y%m%d\")\n",
    "    url = url_head + url_tail + \".txt\"\n",
    "    start_date = days_before\n",
    "    print(url)\n",
    "{date: date {total_entries: ,  total_exits: }"
   ]
  },
  {
   "cell_type": "code",
   "execution_count": 9,
   "metadata": {},
   "outputs": [
    {
     "data": {
      "text/plain": [
       "'120418'"
      ]
     },
     "execution_count": 9,
     "metadata": {},
     "output_type": "execute_result"
    }
   ],
   "source": []
  },
  {
   "cell_type": "code",
   "execution_count": null,
   "metadata": {},
   "outputs": [],
   "source": []
  }
 ],
 "metadata": {
  "kernelspec": {
   "display_name": "Python 3",
   "language": "python",
   "name": "python3"
  },
  "language_info": {
   "codemirror_mode": {
    "name": "ipython",
    "version": 3
   },
   "file_extension": ".py",
   "mimetype": "text/x-python",
   "name": "python",
   "nbconvert_exporter": "python",
   "pygments_lexer": "ipython3",
   "version": "3.7.0"
  }
 },
 "nbformat": 4,
 "nbformat_minor": 2
}
