{
 "cells": [
  {
   "cell_type": "code",
   "execution_count": 1,
   "metadata": {},
   "outputs": [],
   "source": [
    "import pandas as pd \n",
    "import statsmodels.api as sm\n",
    "from statsmodels.formula.api import ols\n",
    "import matplotlib.pyplot as plt\n",
    "import scipy.stats as stats\n",
    "import statsmodels.stats.api as sms\n",
    "plt.style.use('ggplot')\n",
    "data = pd.read_csv('bg_master_1.csv')\n",
    "# data.head(10)\n",
    "# data.columns\n"
   ]
  },
  {
   "cell_type": "code",
   "execution_count": 9,
   "metadata": {},
   "outputs": [
    {
     "name": "stderr",
     "output_type": "stream",
     "text": [
      "/anaconda3/lib/python3.7/site-packages/ipykernel_launcher.py:2: SettingWithCopyWarning: \n",
      "A value is trying to be set on a copy of a slice from a DataFrame\n",
      "\n",
      "See the caveats in the documentation: http://pandas.pydata.org/pandas-docs/stable/indexing.html#indexing-view-versus-copy\n",
      "  \n",
      "/anaconda3/lib/python3.7/site-packages/ipykernel_launcher.py:3: SettingWithCopyWarning: \n",
      "A value is trying to be set on a copy of a slice from a DataFrame\n",
      "\n",
      "See the caveats in the documentation: http://pandas.pydata.org/pandas-docs/stable/indexing.html#indexing-view-versus-copy\n",
      "  This is separate from the ipykernel package so we can avoid doing imports until\n",
      "/anaconda3/lib/python3.7/site-packages/ipykernel_launcher.py:4: SettingWithCopyWarning: \n",
      "A value is trying to be set on a copy of a slice from a DataFrame\n",
      "\n",
      "See the caveats in the documentation: http://pandas.pydata.org/pandas-docs/stable/indexing.html#indexing-view-versus-copy\n",
      "  after removing the cwd from sys.path.\n",
      "/anaconda3/lib/python3.7/site-packages/ipykernel_launcher.py:5: SettingWithCopyWarning: \n",
      "A value is trying to be set on a copy of a slice from a DataFrame\n",
      "\n",
      "See the caveats in the documentation: http://pandas.pydata.org/pandas-docs/stable/indexing.html#indexing-view-versus-copy\n",
      "  \"\"\"\n",
      "/anaconda3/lib/python3.7/site-packages/ipykernel_launcher.py:6: SettingWithCopyWarning: \n",
      "A value is trying to be set on a copy of a slice from a DataFrame\n",
      "\n",
      "See the caveats in the documentation: http://pandas.pydata.org/pandas-docs/stable/indexing.html#indexing-view-versus-copy\n",
      "  \n",
      "/anaconda3/lib/python3.7/site-packages/ipykernel_launcher.py:7: SettingWithCopyWarning: \n",
      "A value is trying to be set on a copy of a slice from a DataFrame\n",
      "\n",
      "See the caveats in the documentation: http://pandas.pydata.org/pandas-docs/stable/indexing.html#indexing-view-versus-copy\n",
      "  import sys\n",
      "/anaconda3/lib/python3.7/site-packages/ipykernel_launcher.py:8: SettingWithCopyWarning: \n",
      "A value is trying to be set on a copy of a slice from a DataFrame\n",
      "\n",
      "See the caveats in the documentation: http://pandas.pydata.org/pandas-docs/stable/indexing.html#indexing-view-versus-copy\n",
      "  \n",
      "/anaconda3/lib/python3.7/site-packages/ipykernel_launcher.py:9: SettingWithCopyWarning: \n",
      "A value is trying to be set on a copy of a slice from a DataFrame\n",
      "\n",
      "See the caveats in the documentation: http://pandas.pydata.org/pandas-docs/stable/indexing.html#indexing-view-versus-copy\n",
      "  if __name__ == '__main__':\n"
     ]
    }
   ],
   "source": [
    "# data.hist(figsize=(18,10) );\n",
    "data['ENTRIES'][321] = (data.iloc[320].ENTRIES + data.iloc[322].ENTRIES) // 2\n",
    "data['ENTRIES'][173] = (data.iloc[172].ENTRIES + data.iloc[174].ENTRIES) // 2\n",
    "data['ENTRIES'][180] = (data.iloc[179].ENTRIES + data.iloc[181].ENTRIES) // 2\n",
    "data['ENTRIES'][321] = (data.iloc[320].ENTRIES + data.iloc[322].ENTRIES) // 2\n",
    "data['ENTRIES'][211] = (data.iloc[204].ENTRIES + data.iloc[218].ENTRIES) // 2 # Saturday\n",
    "data['ENTRIES'][212] = (data.iloc[205].ENTRIES + data.iloc[219].ENTRIES) // 2\n",
    "data['ENTRIES'][323] = (data['ENTRIES'][316] + data['ENTRIES'][330])// 2#data.loc[316].ENTRIES # Saturday\n",
    "data['ENTRIES'][324] = (data['ENTRIES'][317] + data['ENTRIES'][331]) // 2\n",
    "# consider refactoring to use .loc to avoide warnings \n",
    "# consider generalizing into helper function \"turnstile_clean()\"\n",
    "\n",
    "def is_weekend(date):\n",
    "    if date.weekday() >= 5:\n",
    "        return 1\n",
    "    else: \n",
    "        return 0 \n",
    "    \n",
    "data['DATE2'] = pd.to_datetime(data.DATE2)\n",
    "data['is_weekend'] = data.apply(lambda r: is_weekend(r.DATE2), axis=1)\n",
    "wkend_entries = data[data.is_weekend == 1]\n",
    "weekday_entries = data[data.is_weekend == 0]\n",
    "features = ['PRCP','SNOW','SNWD','TMAX','TMIN']"
   ]
  },
  {
   "cell_type": "code",
   "execution_count": 10,
   "metadata": {},
   "outputs": [],
   "source": [
    "def feature_plots_with_graphs(df):\n",
    "    results = [['ind_var', 'r_squared', 'intercept', 'slope', 'p-value', 'normality (JB)' ]]\n",
    "    for feature in features: \n",
    "        f = 'ENTRIES~' + feature\n",
    "        print('\\n', \"Subway Weekend - Regression Analysis and Diagnostics for formula: \",f)\n",
    "        print(\"--------------------------------------------------------------------------------------\")\n",
    "        model = ols(formula=f, data=df).fit()\n",
    "        df_min_max = pd.DataFrame({feature: [df[feature].min(), df[feature].max()]})\n",
    "        preds = model.predict(df_min_max)\n",
    "        df.plot(kind='scatter', x=feature, y='ENTRIES')\n",
    "        plt.plot(df_min_max, preds, c='red', linewidth=2)\n",
    "        plt.show()\n",
    "        fig = plt.figure(figsize=(15,8))\n",
    "        fig = sm.graphics.plot_regress_exog(model, feature, fig=fig)\n",
    "        fig = sm.graphics.qqplot(model.resid, dist=stats.norm, line='45', fit=True,   )\n",
    "        plt.show()\n",
    "        results.append([feature, model.rsquared, model.params[0], model.params[1], model.pvalues[1], sms.jarque_bera(model.resid)[0] ])    \n",
    "    return results\n",
    "\n",
    "def feature_results_summary(df):\n",
    "    results = [['ind_var', 'r_squared', 'intercept', 'slope', 'p-value', 'normality (JB)' ]]\n",
    "    for feature in features: \n",
    "        f = 'ENTRIES~' + feature\n",
    "        model = ols(formula=f, data=df).fit()\n",
    "        df_min_max = pd.DataFrame({feature: [df[feature].min(), df[feature].max()]})\n",
    "        preds = model.predict(df_min_max)\n",
    "        results.append([feature, model.rsquared, model.params[0], model.params[1], model.pvalues[1], sms.jarque_bera(model.resid)[0] ])    \n",
    "    return results"
   ]
  },
  {
   "cell_type": "code",
   "execution_count": 12,
   "metadata": {},
   "outputs": [
    {
     "data": {
      "text/html": [
       "<div>\n",
       "<style scoped>\n",
       "    .dataframe tbody tr th:only-of-type {\n",
       "        vertical-align: middle;\n",
       "    }\n",
       "\n",
       "    .dataframe tbody tr th {\n",
       "        vertical-align: top;\n",
       "    }\n",
       "\n",
       "    .dataframe thead th {\n",
       "        text-align: right;\n",
       "    }\n",
       "</style>\n",
       "<table border=\"1\" class=\"dataframe\">\n",
       "  <thead>\n",
       "    <tr style=\"text-align: right;\">\n",
       "      <th></th>\n",
       "      <th>0</th>\n",
       "      <th>1</th>\n",
       "      <th>2</th>\n",
       "      <th>3</th>\n",
       "      <th>4</th>\n",
       "      <th>5</th>\n",
       "    </tr>\n",
       "  </thead>\n",
       "  <tbody>\n",
       "    <tr>\n",
       "      <th>0</th>\n",
       "      <td>ind_var</td>\n",
       "      <td>r_squared</td>\n",
       "      <td>intercept</td>\n",
       "      <td>slope</td>\n",
       "      <td>p-value</td>\n",
       "      <td>normality (JB)</td>\n",
       "    </tr>\n",
       "    <tr>\n",
       "      <th>1</th>\n",
       "      <td>PRCP</td>\n",
       "      <td>0.0537471</td>\n",
       "      <td>8722.7</td>\n",
       "      <td>-1196.74</td>\n",
       "      <td>0.0178827</td>\n",
       "      <td>3.29887</td>\n",
       "    </tr>\n",
       "    <tr>\n",
       "      <th>2</th>\n",
       "      <td>SNOW</td>\n",
       "      <td>0.00511428</td>\n",
       "      <td>8489.77</td>\n",
       "      <td>235.885</td>\n",
       "      <td>0.470655</td>\n",
       "      <td>2.28656</td>\n",
       "    </tr>\n",
       "    <tr>\n",
       "      <th>3</th>\n",
       "      <td>SNWD</td>\n",
       "      <td>0.0114773</td>\n",
       "      <td>8563.85</td>\n",
       "      <td>-225.663</td>\n",
       "      <td>0.279052</td>\n",
       "      <td>1.80008</td>\n",
       "    </tr>\n",
       "    <tr>\n",
       "      <th>4</th>\n",
       "      <td>TMAX</td>\n",
       "      <td>0.111539</td>\n",
       "      <td>6261.62</td>\n",
       "      <td>36.7602</td>\n",
       "      <td>0.000530711</td>\n",
       "      <td>3.19333</td>\n",
       "    </tr>\n",
       "    <tr>\n",
       "      <th>5</th>\n",
       "      <td>TMIN</td>\n",
       "      <td>0.0641931</td>\n",
       "      <td>7062.96</td>\n",
       "      <td>30.2564</td>\n",
       "      <td>0.00945711</td>\n",
       "      <td>2.61552</td>\n",
       "    </tr>\n",
       "  </tbody>\n",
       "</table>\n",
       "</div>"
      ],
      "text/plain": [
       "         0           1          2        3            4               5\n",
       "0  ind_var   r_squared  intercept    slope      p-value  normality (JB)\n",
       "1     PRCP   0.0537471     8722.7 -1196.74    0.0178827         3.29887\n",
       "2     SNOW  0.00511428    8489.77  235.885     0.470655         2.28656\n",
       "3     SNWD   0.0114773    8563.85 -225.663     0.279052         1.80008\n",
       "4     TMAX    0.111539    6261.62  36.7602  0.000530711         3.19333\n",
       "5     TMIN   0.0641931    7062.96  30.2564   0.00945711         2.61552"
      ]
     },
     "execution_count": 12,
     "metadata": {},
     "output_type": "execute_result"
    }
   ],
   "source": [
    "weekend_results = pd.DataFrame(feature_results_summary(wkend_entries))\n",
    "weekend_results"
   ]
  },
  {
   "cell_type": "code",
   "execution_count": 13,
   "metadata": {},
   "outputs": [
    {
     "data": {
      "text/html": [
       "<div>\n",
       "<style scoped>\n",
       "    .dataframe tbody tr th:only-of-type {\n",
       "        vertical-align: middle;\n",
       "    }\n",
       "\n",
       "    .dataframe tbody tr th {\n",
       "        vertical-align: top;\n",
       "    }\n",
       "\n",
       "    .dataframe thead th {\n",
       "        text-align: right;\n",
       "    }\n",
       "</style>\n",
       "<table border=\"1\" class=\"dataframe\">\n",
       "  <thead>\n",
       "    <tr style=\"text-align: right;\">\n",
       "      <th></th>\n",
       "      <th>0</th>\n",
       "      <th>1</th>\n",
       "      <th>2</th>\n",
       "      <th>3</th>\n",
       "      <th>4</th>\n",
       "      <th>5</th>\n",
       "    </tr>\n",
       "  </thead>\n",
       "  <tbody>\n",
       "    <tr>\n",
       "      <th>0</th>\n",
       "      <td>ind_var</td>\n",
       "      <td>r_squared</td>\n",
       "      <td>intercept</td>\n",
       "      <td>slope</td>\n",
       "      <td>p-value</td>\n",
       "      <td>normality (JB)</td>\n",
       "    </tr>\n",
       "    <tr>\n",
       "      <th>1</th>\n",
       "      <td>PRCP</td>\n",
       "      <td>0.00982815</td>\n",
       "      <td>28921.1</td>\n",
       "      <td>-1213.98</td>\n",
       "      <td>0.110074</td>\n",
       "      <td>1855.46</td>\n",
       "    </tr>\n",
       "    <tr>\n",
       "      <th>2</th>\n",
       "      <td>SNOW</td>\n",
       "      <td>0.0633981</td>\n",
       "      <td>28894.5</td>\n",
       "      <td>-1200.91</td>\n",
       "      <td>3.87596e-05</td>\n",
       "      <td>2157.2</td>\n",
       "    </tr>\n",
       "    <tr>\n",
       "      <th>3</th>\n",
       "      <td>SNWD</td>\n",
       "      <td>0.00183272</td>\n",
       "      <td>28763</td>\n",
       "      <td>-204.191</td>\n",
       "      <td>0.491064</td>\n",
       "      <td>1760.08</td>\n",
       "    </tr>\n",
       "    <tr>\n",
       "      <th>4</th>\n",
       "      <td>TMAX</td>\n",
       "      <td>0.0367809</td>\n",
       "      <td>25845.9</td>\n",
       "      <td>45.9597</td>\n",
       "      <td>0.00185555</td>\n",
       "      <td>1476.89</td>\n",
       "    </tr>\n",
       "    <tr>\n",
       "      <th>5</th>\n",
       "      <td>TMIN</td>\n",
       "      <td>0.0289766</td>\n",
       "      <td>26599.5</td>\n",
       "      <td>43.0837</td>\n",
       "      <td>0.00583306</td>\n",
       "      <td>1492.22</td>\n",
       "    </tr>\n",
       "  </tbody>\n",
       "</table>\n",
       "</div>"
      ],
      "text/plain": [
       "         0           1          2        3            4               5\n",
       "0  ind_var   r_squared  intercept    slope      p-value  normality (JB)\n",
       "1     PRCP  0.00982815    28921.1 -1213.98     0.110074         1855.46\n",
       "2     SNOW   0.0633981    28894.5 -1200.91  3.87596e-05          2157.2\n",
       "3     SNWD  0.00183272      28763 -204.191     0.491064         1760.08\n",
       "4     TMAX   0.0367809    25845.9  45.9597   0.00185555         1476.89\n",
       "5     TMIN   0.0289766    26599.5  43.0837   0.00583306         1492.22"
      ]
     },
     "execution_count": 13,
     "metadata": {},
     "output_type": "execute_result"
    }
   ],
   "source": [
    "weekday_results = pd.DataFrame(feature_results_summary(weekday_entries))\n",
    "weekday_results"
   ]
  },
  {
   "cell_type": "code",
   "execution_count": null,
   "metadata": {},
   "outputs": [],
   "source": []
  },
  {
   "cell_type": "code",
   "execution_count": null,
   "metadata": {},
   "outputs": [],
   "source": []
  },
  {
   "cell_type": "code",
   "execution_count": null,
   "metadata": {},
   "outputs": [],
   "source": []
  },
  {
   "cell_type": "code",
   "execution_count": null,
   "metadata": {},
   "outputs": [],
   "source": []
  },
  {
   "cell_type": "code",
   "execution_count": null,
   "metadata": {},
   "outputs": [],
   "source": []
  },
  {
   "cell_type": "code",
   "execution_count": null,
   "metadata": {},
   "outputs": [],
   "source": []
  },
  {
   "cell_type": "code",
   "execution_count": 37,
   "metadata": {},
   "outputs": [],
   "source": [
    "# features = ['PRCP','SNOW','SNWD','TMAX','TMIN']\n",
    "# for column in features:\n",
    "#     plt.scatter(data[column], data.ENTRIES, label=column)\n",
    "#     plt.legend()\n",
    "#     plt.show()\n",
    "\n"
   ]
  },
  {
   "cell_type": "code",
   "execution_count": 4,
   "metadata": {
    "scrolled": true
   },
   "outputs": [
    {
     "name": "stderr",
     "output_type": "stream",
     "text": [
      "/anaconda3/lib/python3.7/site-packages/ipykernel_launcher.py:5: SettingWithCopyWarning: \n",
      "A value is trying to be set on a copy of a slice from a DataFrame\n",
      "\n",
      "See the caveats in the documentation: http://pandas.pydata.org/pandas-docs/stable/indexing.html#indexing-view-versus-copy\n",
      "  \"\"\"\n"
     ]
    }
   ],
   "source": [
    "# data.ENTRIES[data.ENTRIES > 45000]\n",
    "# data.iloc[172], data.iloc[173], data.iloc[174]\n",
    "\n",
    "# data.iloc[173].ENTRIES.replace(data.iloc[173].ENTRIES, (data.iloc[172].ENTRIES + data.iloc[174].ENTRIES) // 2)\n",
    "data['ENTRIES'][173] = (data.iloc[172].ENTRIES + data.iloc[174].ENTRIES) // 2"
   ]
  },
  {
   "cell_type": "code",
   "execution_count": 5,
   "metadata": {},
   "outputs": [
    {
     "name": "stderr",
     "output_type": "stream",
     "text": [
      "/anaconda3/lib/python3.7/site-packages/ipykernel_launcher.py:1: SettingWithCopyWarning: \n",
      "A value is trying to be set on a copy of a slice from a DataFrame\n",
      "\n",
      "See the caveats in the documentation: http://pandas.pydata.org/pandas-docs/stable/indexing.html#indexing-view-versus-copy\n",
      "  \"\"\"Entry point for launching an IPython kernel.\n"
     ]
    }
   ],
   "source": [
    "data['ENTRIES'][180] = (data.iloc[179].ENTRIES + data.iloc[181].ENTRIES) // 2"
   ]
  },
  {
   "cell_type": "code",
   "execution_count": 6,
   "metadata": {},
   "outputs": [
    {
     "name": "stderr",
     "output_type": "stream",
     "text": [
      "/anaconda3/lib/python3.7/site-packages/ipykernel_launcher.py:1: SettingWithCopyWarning: \n",
      "A value is trying to be set on a copy of a slice from a DataFrame\n",
      "\n",
      "See the caveats in the documentation: http://pandas.pydata.org/pandas-docs/stable/indexing.html#indexing-view-versus-copy\n",
      "  \"\"\"Entry point for launching an IPython kernel.\n"
     ]
    }
   ],
   "source": [
    "data['ENTRIES'][321] = (data.iloc[320].ENTRIES + data.iloc[322].ENTRIES) // 2"
   ]
  },
  {
   "cell_type": "code",
   "execution_count": 7,
   "metadata": {
    "scrolled": true
   },
   "outputs": [
    {
     "data": {
      "text/plain": [
       "45"
      ]
     },
     "execution_count": 7,
     "metadata": {},
     "output_type": "execute_result"
    }
   ],
   "source": [
    "data['ENTRIES'][211]"
   ]
  },
  {
   "cell_type": "code",
   "execution_count": null,
   "metadata": {},
   "outputs": [],
   "source": []
  },
  {
   "cell_type": "code",
   "execution_count": 8,
   "metadata": {
    "scrolled": true
   },
   "outputs": [
    {
     "name": "stderr",
     "output_type": "stream",
     "text": [
      "/anaconda3/lib/python3.7/site-packages/ipykernel_launcher.py:2: SettingWithCopyWarning: \n",
      "A value is trying to be set on a copy of a slice from a DataFrame\n",
      "\n",
      "See the caveats in the documentation: http://pandas.pydata.org/pandas-docs/stable/indexing.html#indexing-view-versus-copy\n",
      "  \n",
      "/anaconda3/lib/python3.7/site-packages/ipykernel_launcher.py:3: SettingWithCopyWarning: \n",
      "A value is trying to be set on a copy of a slice from a DataFrame\n",
      "\n",
      "See the caveats in the documentation: http://pandas.pydata.org/pandas-docs/stable/indexing.html#indexing-view-versus-copy\n",
      "  This is separate from the ipykernel package so we can avoid doing imports until\n"
     ]
    }
   ],
   "source": [
    "# Weekend\n",
    "data['ENTRIES'][211] = (data.iloc[204].ENTRIES + data.iloc[218].ENTRIES) // 2 # Saturday\n",
    "data['ENTRIES'][212] = (data.iloc[205].ENTRIES + data.iloc[219].ENTRIES) // 2"
   ]
  },
  {
   "cell_type": "code",
   "execution_count": 9,
   "metadata": {},
   "outputs": [
    {
     "data": {
      "text/plain": [
       "Unnamed: 0           218\n",
       "DATE2         2018-07-07\n",
       "ENTRIES            10031\n",
       "EXITS              11174\n",
       "PRCP                   0\n",
       "SNOW                   0\n",
       "SNWD                   0\n",
       "TMAX                  78\n",
       "TMIN                  62\n",
       "Name: 218, dtype: object"
      ]
     },
     "execution_count": 9,
     "metadata": {},
     "output_type": "execute_result"
    }
   ],
   "source": [
    "data.loc[218]"
   ]
  },
  {
   "cell_type": "code",
   "execution_count": 10,
   "metadata": {
    "scrolled": true
   },
   "outputs": [
    {
     "name": "stderr",
     "output_type": "stream",
     "text": [
      "/anaconda3/lib/python3.7/site-packages/ipykernel_launcher.py:1: SettingWithCopyWarning: \n",
      "A value is trying to be set on a copy of a slice from a DataFrame\n",
      "\n",
      "See the caveats in the documentation: http://pandas.pydata.org/pandas-docs/stable/indexing.html#indexing-view-versus-copy\n",
      "  \"\"\"Entry point for launching an IPython kernel.\n"
     ]
    },
    {
     "data": {
      "text/plain": [
       "Unnamed: 0           323\n",
       "DATE2         2018-10-20\n",
       "ENTRIES             6830\n",
       "EXITS                 34\n",
       "PRCP                0.06\n",
       "SNOW                   0\n",
       "SNWD                   0\n",
       "TMAX                  62\n",
       "TMIN                  51\n",
       "Name: 323, dtype: object"
      ]
     },
     "execution_count": 10,
     "metadata": {},
     "output_type": "execute_result"
    }
   ],
   "source": [
    "data['ENTRIES'][323] = (data['ENTRIES'][316] + data['ENTRIES'][330])// 2#data.loc[316].ENTRIES # Saturday\n",
    "data.loc[323] # Sunday"
   ]
  },
  {
   "cell_type": "code",
   "execution_count": 11,
   "metadata": {},
   "outputs": [
    {
     "name": "stderr",
     "output_type": "stream",
     "text": [
      "/anaconda3/lib/python3.7/site-packages/ipykernel_launcher.py:1: SettingWithCopyWarning: \n",
      "A value is trying to be set on a copy of a slice from a DataFrame\n",
      "\n",
      "See the caveats in the documentation: http://pandas.pydata.org/pandas-docs/stable/indexing.html#indexing-view-versus-copy\n",
      "  \"\"\"Entry point for launching an IPython kernel.\n"
     ]
    },
    {
     "data": {
      "text/plain": [
       "7168"
      ]
     },
     "execution_count": 11,
     "metadata": {},
     "output_type": "execute_result"
    }
   ],
   "source": [
    "data['ENTRIES'][324] = (data['ENTRIES'][317] + data['ENTRIES'][331]) // 2\n",
    "data['ENTRIES'][324]"
   ]
  },
  {
   "cell_type": "code",
   "execution_count": 50,
   "metadata": {},
   "outputs": [],
   "source": [
    "# data[data.is_weekend == 0]"
   ]
  },
  {
   "cell_type": "code",
   "execution_count": null,
   "metadata": {},
   "outputs": [],
   "source": []
  },
  {
   "cell_type": "code",
   "execution_count": 12,
   "metadata": {},
   "outputs": [],
   "source": [
    "def is_weekend(date):\n",
    "    if date.weekday() >= 5:\n",
    "        return 1\n",
    "    else: \n",
    "        return 0 "
   ]
  },
  {
   "cell_type": "code",
   "execution_count": 30,
   "metadata": {},
   "outputs": [
    {
     "data": {
      "text/plain": [
       "Timestamp('2017-12-05 00:00:00')"
      ]
     },
     "execution_count": 30,
     "metadata": {},
     "output_type": "execute_result"
    }
   ],
   "source": []
  },
  {
   "cell_type": "code",
   "execution_count": 13,
   "metadata": {},
   "outputs": [],
   "source": [
    "data['DATE2'] = pd.to_datetime(data.DATE2)"
   ]
  },
  {
   "cell_type": "code",
   "execution_count": 25,
   "metadata": {},
   "outputs": [],
   "source": [
    "wkend_entries = data[data.is_weekend == 1]\n",
    "weekday_entries = data[data.is_weekend == 0]\n",
    "# wkend_entries.ENTRIES"
   ]
  },
  {
   "cell_type": "code",
   "execution_count": 14,
   "metadata": {},
   "outputs": [],
   "source": [
    "features = ['PRCP','SNOW','SNWD','TMAX','TMIN']\n",
    "# for column in features:\n",
    "#     plt.scatter(weekday_entries[column], weekday_entries.ENTRIES, label=column)\n",
    "#     plt.legend()\n",
    "#     plt.show()"
   ]
  },
  {
   "cell_type": "code",
   "execution_count": null,
   "metadata": {},
   "outputs": [],
   "source": []
  },
  {
   "cell_type": "code",
   "execution_count": 15,
   "metadata": {},
   "outputs": [],
   "source": [
    "# data['is_weekend'] = data.apply(lambda r: is_weekend(r.DATE2), axis=1)"
   ]
  },
  {
   "cell_type": "code",
   "execution_count": 31,
   "metadata": {},
   "outputs": [],
   "source": [
    "# import scipy.stats as stats\n",
    "# import statsmodels.stats.api as sms\n",
    "\n",
    "# def feature_plots_with_graphs(df):\n",
    "#     results = [['ind_var', 'r_squared', 'intercept', 'slope', 'p-value', 'normality (JB)' ]]\n",
    "#     for feature in features: \n",
    "#         f = 'ENTRIES~' + feature\n",
    "#         print('\\n', \"Subway Weekend - Regression Analysis and Diagnostics for formula: \",f)\n",
    "#         print(\"--------------------------------------------------------------------------------------\")\n",
    "#         model = ols(formula=f, data=df).fit()\n",
    "#         df_min_max = pd.DataFrame({feature: [df[feature].min(), df[feature].max()]})\n",
    "#         preds = model.predict(df_min_max)\n",
    "#         df.plot(kind='scatter', x=feature, y='ENTRIES')\n",
    "#         plt.plot(df_min_max, preds, c='red', linewidth=2)\n",
    "#         plt.show()\n",
    "#         fig = plt.figure(figsize=(15,8))\n",
    "#         fig = sm.graphics.plot_regress_exog(model, feature, fig=fig)\n",
    "#         fig = sm.graphics.qqplot(model.resid, dist=stats.norm, line='45', fit=True,   )\n",
    "#         plt.show()\n",
    "#         results.append([feature, model.rsquared, model.params[0], model.params[1], model.pvalues[1], sms.jarque_bera(model.resid)[0] ])    \n",
    "#     return results\n",
    "\n",
    "# def feature_plots_no_graphs(df):\n",
    "#     results = [['ind_var', 'r_squared', 'intercept', 'slope', 'p-value', 'normality (JB)' ]]\n",
    "#     for feature in features: \n",
    "#         f = 'ENTRIES~' + feature\n",
    "# #         print('\\n', \"Regression Analysis and Diagnostics for formula: \",f)\n",
    "# #         print(\"--------------------------------------------------------------------------------------\")\n",
    "#         model = ols(formula=f, data=df).fit()\n",
    "#         df_min_max = pd.DataFrame({feature: [df[feature].min(), df[feature].max()]})\n",
    "#         preds = model.predict(df_min_max)\n",
    "# #         df.plot(kind='scatter', x=feature, y='ENTRIES')\n",
    "# #          plt.plot(df_min_max, preds, c='red', linewidth=2)\n",
    "# #         plt.show()\n",
    "# #         fig = plt.figure(figsize=(15,8))\n",
    "# #         fig = sm.graphics.plot_regress_exog(model, feature, fig=fig)\n",
    "# #         fig = sm.graphics.qqplot(model.resid, dist=stats.norm, line='45', fit=True,   )\n",
    "# #         plt.show()\n",
    "#         results.append([feature, model.rsquared, model.params[0], model.params[1], model.pvalues[1], sms.jarque_bera(model.resid)[0] ])    \n",
    "#     return results\n"
   ]
  },
  {
   "cell_type": "code",
   "execution_count": 24,
   "metadata": {},
   "outputs": [
    {
     "data": {
      "text/html": [
       "<div>\n",
       "<style scoped>\n",
       "    .dataframe tbody tr th:only-of-type {\n",
       "        vertical-align: middle;\n",
       "    }\n",
       "\n",
       "    .dataframe tbody tr th {\n",
       "        vertical-align: top;\n",
       "    }\n",
       "\n",
       "    .dataframe thead th {\n",
       "        text-align: right;\n",
       "    }\n",
       "</style>\n",
       "<table border=\"1\" class=\"dataframe\">\n",
       "  <thead>\n",
       "    <tr style=\"text-align: right;\">\n",
       "      <th></th>\n",
       "      <th>0</th>\n",
       "      <th>1</th>\n",
       "      <th>2</th>\n",
       "      <th>3</th>\n",
       "      <th>4</th>\n",
       "      <th>5</th>\n",
       "    </tr>\n",
       "  </thead>\n",
       "  <tbody>\n",
       "    <tr>\n",
       "      <th>0</th>\n",
       "      <td>ind_var</td>\n",
       "      <td>r_squared</td>\n",
       "      <td>intercept</td>\n",
       "      <td>slope</td>\n",
       "      <td>p-value</td>\n",
       "      <td>normality (JB)</td>\n",
       "    </tr>\n",
       "    <tr>\n",
       "      <th>1</th>\n",
       "      <td>PRCP</td>\n",
       "      <td>0.0537471</td>\n",
       "      <td>8722.7</td>\n",
       "      <td>-1196.74</td>\n",
       "      <td>0.0178827</td>\n",
       "      <td>3.29887</td>\n",
       "    </tr>\n",
       "    <tr>\n",
       "      <th>2</th>\n",
       "      <td>SNOW</td>\n",
       "      <td>0.00511428</td>\n",
       "      <td>8489.77</td>\n",
       "      <td>235.885</td>\n",
       "      <td>0.470655</td>\n",
       "      <td>2.28656</td>\n",
       "    </tr>\n",
       "    <tr>\n",
       "      <th>3</th>\n",
       "      <td>SNWD</td>\n",
       "      <td>0.0114773</td>\n",
       "      <td>8563.85</td>\n",
       "      <td>-225.663</td>\n",
       "      <td>0.279052</td>\n",
       "      <td>1.80008</td>\n",
       "    </tr>\n",
       "    <tr>\n",
       "      <th>4</th>\n",
       "      <td>TMAX</td>\n",
       "      <td>0.111539</td>\n",
       "      <td>6261.62</td>\n",
       "      <td>36.7602</td>\n",
       "      <td>0.000530711</td>\n",
       "      <td>3.19333</td>\n",
       "    </tr>\n",
       "  </tbody>\n",
       "</table>\n",
       "</div>"
      ],
      "text/plain": [
       "         0           1          2        3            4               5\n",
       "0  ind_var   r_squared  intercept    slope      p-value  normality (JB)\n",
       "1     PRCP   0.0537471     8722.7 -1196.74    0.0178827         3.29887\n",
       "2     SNOW  0.00511428    8489.77  235.885     0.470655         2.28656\n",
       "3     SNWD   0.0114773    8563.85 -225.663     0.279052         1.80008\n",
       "4     TMAX    0.111539    6261.62  36.7602  0.000530711         3.19333"
      ]
     },
     "execution_count": 24,
     "metadata": {},
     "output_type": "execute_result"
    }
   ],
   "source": [
    "# weekend_results = pd.DataFrame(results)\n",
    "# weekend_results.head()"
   ]
  },
  {
   "cell_type": "code",
   "execution_count": 33,
   "metadata": {},
   "outputs": [],
   "source": [
    "# weekday_results = pd.DataFrame(feature_plots_no_graphs(weekday_entries))"
   ]
  },
  {
   "cell_type": "code",
   "execution_count": 34,
   "metadata": {},
   "outputs": [
    {
     "data": {
      "text/html": [
       "<div>\n",
       "<style scoped>\n",
       "    .dataframe tbody tr th:only-of-type {\n",
       "        vertical-align: middle;\n",
       "    }\n",
       "\n",
       "    .dataframe tbody tr th {\n",
       "        vertical-align: top;\n",
       "    }\n",
       "\n",
       "    .dataframe thead th {\n",
       "        text-align: right;\n",
       "    }\n",
       "</style>\n",
       "<table border=\"1\" class=\"dataframe\">\n",
       "  <thead>\n",
       "    <tr style=\"text-align: right;\">\n",
       "      <th></th>\n",
       "      <th>0</th>\n",
       "      <th>1</th>\n",
       "      <th>2</th>\n",
       "      <th>3</th>\n",
       "      <th>4</th>\n",
       "      <th>5</th>\n",
       "    </tr>\n",
       "  </thead>\n",
       "  <tbody>\n",
       "    <tr>\n",
       "      <th>0</th>\n",
       "      <td>ind_var</td>\n",
       "      <td>r_squared</td>\n",
       "      <td>intercept</td>\n",
       "      <td>slope</td>\n",
       "      <td>p-value</td>\n",
       "      <td>normality (JB)</td>\n",
       "    </tr>\n",
       "    <tr>\n",
       "      <th>1</th>\n",
       "      <td>PRCP</td>\n",
       "      <td>0.00982815</td>\n",
       "      <td>28921.1</td>\n",
       "      <td>-1213.98</td>\n",
       "      <td>0.110074</td>\n",
       "      <td>1855.46</td>\n",
       "    </tr>\n",
       "    <tr>\n",
       "      <th>2</th>\n",
       "      <td>SNOW</td>\n",
       "      <td>0.0633981</td>\n",
       "      <td>28894.5</td>\n",
       "      <td>-1200.91</td>\n",
       "      <td>3.87596e-05</td>\n",
       "      <td>2157.2</td>\n",
       "    </tr>\n",
       "    <tr>\n",
       "      <th>3</th>\n",
       "      <td>SNWD</td>\n",
       "      <td>0.00183272</td>\n",
       "      <td>28763</td>\n",
       "      <td>-204.191</td>\n",
       "      <td>0.491064</td>\n",
       "      <td>1760.08</td>\n",
       "    </tr>\n",
       "    <tr>\n",
       "      <th>4</th>\n",
       "      <td>TMAX</td>\n",
       "      <td>0.0367809</td>\n",
       "      <td>25845.9</td>\n",
       "      <td>45.9597</td>\n",
       "      <td>0.00185555</td>\n",
       "      <td>1476.89</td>\n",
       "    </tr>\n",
       "    <tr>\n",
       "      <th>5</th>\n",
       "      <td>TMIN</td>\n",
       "      <td>0.0289766</td>\n",
       "      <td>26599.5</td>\n",
       "      <td>43.0837</td>\n",
       "      <td>0.00583306</td>\n",
       "      <td>1492.22</td>\n",
       "    </tr>\n",
       "  </tbody>\n",
       "</table>\n",
       "</div>"
      ],
      "text/plain": [
       "         0           1          2        3            4               5\n",
       "0  ind_var   r_squared  intercept    slope      p-value  normality (JB)\n",
       "1     PRCP  0.00982815    28921.1 -1213.98     0.110074         1855.46\n",
       "2     SNOW   0.0633981    28894.5 -1200.91  3.87596e-05          2157.2\n",
       "3     SNWD  0.00183272      28763 -204.191     0.491064         1760.08\n",
       "4     TMAX   0.0367809    25845.9  45.9597   0.00185555         1476.89\n",
       "5     TMIN   0.0289766    26599.5  43.0837   0.00583306         1492.22"
      ]
     },
     "execution_count": 34,
     "metadata": {},
     "output_type": "execute_result"
    }
   ],
   "source": [
    "# weekday_results"
   ]
  },
  {
   "cell_type": "code",
   "execution_count": 35,
   "metadata": {},
   "outputs": [
    {
     "data": {
      "text/html": [
       "<div>\n",
       "<style scoped>\n",
       "    .dataframe tbody tr th:only-of-type {\n",
       "        vertical-align: middle;\n",
       "    }\n",
       "\n",
       "    .dataframe tbody tr th {\n",
       "        vertical-align: top;\n",
       "    }\n",
       "\n",
       "    .dataframe thead th {\n",
       "        text-align: right;\n",
       "    }\n",
       "</style>\n",
       "<table border=\"1\" class=\"dataframe\">\n",
       "  <thead>\n",
       "    <tr style=\"text-align: right;\">\n",
       "      <th></th>\n",
       "      <th>0</th>\n",
       "      <th>1</th>\n",
       "      <th>2</th>\n",
       "      <th>3</th>\n",
       "      <th>4</th>\n",
       "      <th>5</th>\n",
       "    </tr>\n",
       "  </thead>\n",
       "  <tbody>\n",
       "    <tr>\n",
       "      <th>0</th>\n",
       "      <td>ind_var</td>\n",
       "      <td>r_squared</td>\n",
       "      <td>intercept</td>\n",
       "      <td>slope</td>\n",
       "      <td>p-value</td>\n",
       "      <td>normality (JB)</td>\n",
       "    </tr>\n",
       "    <tr>\n",
       "      <th>1</th>\n",
       "      <td>PRCP</td>\n",
       "      <td>0.0537471</td>\n",
       "      <td>8722.7</td>\n",
       "      <td>-1196.74</td>\n",
       "      <td>0.0178827</td>\n",
       "      <td>3.29887</td>\n",
       "    </tr>\n",
       "    <tr>\n",
       "      <th>2</th>\n",
       "      <td>SNOW</td>\n",
       "      <td>0.00511428</td>\n",
       "      <td>8489.77</td>\n",
       "      <td>235.885</td>\n",
       "      <td>0.470655</td>\n",
       "      <td>2.28656</td>\n",
       "    </tr>\n",
       "    <tr>\n",
       "      <th>3</th>\n",
       "      <td>SNWD</td>\n",
       "      <td>0.0114773</td>\n",
       "      <td>8563.85</td>\n",
       "      <td>-225.663</td>\n",
       "      <td>0.279052</td>\n",
       "      <td>1.80008</td>\n",
       "    </tr>\n",
       "    <tr>\n",
       "      <th>4</th>\n",
       "      <td>TMAX</td>\n",
       "      <td>0.111539</td>\n",
       "      <td>6261.62</td>\n",
       "      <td>36.7602</td>\n",
       "      <td>0.000530711</td>\n",
       "      <td>3.19333</td>\n",
       "    </tr>\n",
       "    <tr>\n",
       "      <th>5</th>\n",
       "      <td>TMIN</td>\n",
       "      <td>0.0641931</td>\n",
       "      <td>7062.96</td>\n",
       "      <td>30.2564</td>\n",
       "      <td>0.00945711</td>\n",
       "      <td>2.61552</td>\n",
       "    </tr>\n",
       "  </tbody>\n",
       "</table>\n",
       "</div>"
      ],
      "text/plain": [
       "         0           1          2        3            4               5\n",
       "0  ind_var   r_squared  intercept    slope      p-value  normality (JB)\n",
       "1     PRCP   0.0537471     8722.7 -1196.74    0.0178827         3.29887\n",
       "2     SNOW  0.00511428    8489.77  235.885     0.470655         2.28656\n",
       "3     SNWD   0.0114773    8563.85 -225.663     0.279052         1.80008\n",
       "4     TMAX    0.111539    6261.62  36.7602  0.000530711         3.19333\n",
       "5     TMIN   0.0641931    7062.96  30.2564   0.00945711         2.61552"
      ]
     },
     "execution_count": 35,
     "metadata": {},
     "output_type": "execute_result"
    }
   ],
   "source": [
    "# weekend_results "
   ]
  },
  {
   "cell_type": "code",
   "execution_count": null,
   "metadata": {},
   "outputs": [],
   "source": []
  }
 ],
 "metadata": {
  "kernelspec": {
   "display_name": "Python 3",
   "language": "python",
   "name": "python3"
  },
  "language_info": {
   "codemirror_mode": {
    "name": "ipython",
    "version": 3
   },
   "file_extension": ".py",
   "mimetype": "text/x-python",
   "name": "python",
   "nbconvert_exporter": "python",
   "pygments_lexer": "ipython3",
   "version": "3.7.0"
  }
 },
 "nbformat": 4,
 "nbformat_minor": 2
}
