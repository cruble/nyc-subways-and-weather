{
 "cells": [
  {
   "cell_type": "code",
   "execution_count": 1,
   "metadata": {},
   "outputs": [],
   "source": [
    "import pandas as pd\n",
    "import numpy as np\n",
    "\n",
    "import datetime as DT"
   ]
  },
  {
   "cell_type": "code",
   "execution_count": 7,
   "metadata": {},
   "outputs": [],
   "source": [
    "# import pdb \n",
    "def get_turnstile_data(url):\n",
    "    doc = pd.read_csv(url)\n",
    "    bg_all = doc[doc.STATION == 'BOWLING GREEN']\n",
    "    bg_all.rename(columns={'EXITS                                                               ': \"EXITS\"}, inplace = True)\n",
    "    bg_sliced = bg_all[['DATE', 'SCP', 'TIME', 'ENTRIES', 'EXITS']]\n",
    "    bg_grouped = bg_sliced.groupby(['DATE', 'SCP', 'TIME']).sum()\n",
    "    stiles_index = bg_grouped.reset_index()\n",
    "    \n",
    "    stiles = stiles_index.SCP.unique()\n",
    "    dates = stiles_index.DATE.unique()\n",
    "\n",
    "    e_e_dict = dict.fromkeys(dates)\n",
    "    for k in e_e_dict: \n",
    "        e_e_dict[k] =  {'ENTRIES': 0, 'EXITS': 0}\n",
    "\n",
    "    for date in dates: \n",
    "        date_entries = 0 \n",
    "        date_exits = 0 \n",
    "#         print(date)\n",
    "        for stile in stiles: \n",
    "#             print(stile)\n",
    "            test = stiles_index[(stiles_index.DATE == date) & (stiles_index.SCP == stile)]\n",
    "            sorted_stiles = test.sort_values(by = \"TIME\")\n",
    "#             pdb.set_trace()\n",
    "            try:\n",
    "                entries =  sorted_stiles.iloc[-1].ENTRIES - sorted_stiles.iloc[0].ENTRIES\n",
    "                exits = sorted_stiles.iloc[-1].EXITS - sorted_stiles.iloc[0].EXITS\n",
    "            except: \n",
    "                entries = 0\n",
    "                exits = 0 \n",
    "                error_list.append(date)\n",
    "                error_list.append(stile)\n",
    "            date_entries += entries \n",
    "            date_exits += exits \n",
    "            e_e_dict[date]['ENTRIES'] = date_entries \n",
    "            e_e_dict[date]['EXITS'] = date_exits\n",
    "    print(e_e_dict)\n",
    "    return e_e_dict \n",
    "\n",
    "# new_df = bg_grouped.reset_index()"
   ]
  },
  {
   "cell_type": "code",
   "execution_count": 34,
   "metadata": {},
   "outputs": [],
   "source": [
    "def main():\n",
    "    # get current start_date\n",
    "    start_date = DT.date(2018, 5, 5)\n",
    "    mega_dict = {}\n",
    "    error_list = []\n",
    "    url_head = 'http://web.mta.info/developers/data/nyct/turnstile/turnstile_'\n",
    "    for i in range(1):\n",
    "        days_before = start_date - DT.timedelta(days=7)\n",
    "        url_tail = start_date.strftime(\"%y%m%d\")\n",
    "        url = url_head + url_tail + \".txt\"\n",
    "        print(url)\n",
    "        mega_dict.update(get_turnstile_data(url))\n",
    "    return mega_dict\n",
    "    # {date: date {total_entries: ,  total_exits: }"
   ]
  },
  {
   "cell_type": "code",
   "execution_count": 35,
   "metadata": {},
   "outputs": [
    {
     "name": "stdout",
     "output_type": "stream",
     "text": [
      "http://web.mta.info/developers/data/nyct/turnstile/turnstile_180505.txt\n"
     ]
    },
    {
     "name": "stderr",
     "output_type": "stream",
     "text": [
      "/Users/christophermanna/anaconda3/lib/python3.7/site-packages/pandas/core/frame.py:3781: SettingWithCopyWarning: \n",
      "A value is trying to be set on a copy of a slice from a DataFrame\n",
      "\n",
      "See the caveats in the documentation: http://pandas.pydata.org/pandas-docs/stable/indexing.html#indexing-view-versus-copy\n",
      "  return super(DataFrame, self).rename(**kwargs)\n"
     ]
    },
    {
     "name": "stdout",
     "output_type": "stream",
     "text": [
      "{'04/28/2018': {'ENTRIES': 10395, 'EXITS': 9736}, '04/29/2018': {'ENTRIES': 7208, 'EXITS': 6795}, '04/30/2018': {'ENTRIES': 30058, 'EXITS': 26185}, '05/01/2018': {'ENTRIES': 31938, 'EXITS': 29902}, '05/02/2018': {'ENTRIES': 31635, 'EXITS': 28481}, '05/03/2018': {'ENTRIES': 31431, 'EXITS': 26767}, '05/04/2018': {'ENTRIES': 29340, 'EXITS': 26396}}\n"
     ]
    },
    {
     "data": {
      "text/plain": [
       "{'04/28/2018': {'ENTRIES': 10395, 'EXITS': 9736},\n",
       " '04/29/2018': {'ENTRIES': 7208, 'EXITS': 6795},\n",
       " '04/30/2018': {'ENTRIES': 30058, 'EXITS': 26185},\n",
       " '05/01/2018': {'ENTRIES': 31938, 'EXITS': 29902},\n",
       " '05/02/2018': {'ENTRIES': 31635, 'EXITS': 28481},\n",
       " '05/03/2018': {'ENTRIES': 31431, 'EXITS': 26767},\n",
       " '05/04/2018': {'ENTRIES': 29340, 'EXITS': 26396}}"
      ]
     },
     "execution_count": 35,
     "metadata": {},
     "output_type": "execute_result"
    }
   ],
   "source": [
    "main()"
   ]
  },
  {
   "cell_type": "code",
   "execution_count": 2,
   "metadata": {},
   "outputs": [
    {
     "ename": "NameError",
     "evalue": "name 'mega_dict' is not defined",
     "output_type": "error",
     "traceback": [
      "\u001b[0;31m---------------------------------------------------------------------------\u001b[0m",
      "\u001b[0;31mNameError\u001b[0m                                 Traceback (most recent call last)",
      "\u001b[0;32m<ipython-input-2-5345c0b9a6d7>\u001b[0m in \u001b[0;36m<module>\u001b[0;34m()\u001b[0m\n\u001b[1;32m      1\u001b[0m \u001b[0;31m# http://web.mta.info/developers/data/nyct/turnstile/turnstile_180505.txt\u001b[0m\u001b[0;34m\u001b[0m\u001b[0;34m\u001b[0m\u001b[0m\n\u001b[0;32m----> 2\u001b[0;31m \u001b[0mtest2\u001b[0m \u001b[0;34m=\u001b[0m \u001b[0mpd\u001b[0m\u001b[0;34m.\u001b[0m\u001b[0mDataFrame\u001b[0m\u001b[0;34m(\u001b[0m\u001b[0mmega_dict\u001b[0m\u001b[0;34m)\u001b[0m\u001b[0;34m.\u001b[0m\u001b[0mT\u001b[0m\u001b[0;34m\u001b[0m\u001b[0m\n\u001b[0m\u001b[1;32m      3\u001b[0m \u001b[0;31m# test2\u001b[0m\u001b[0;34m\u001b[0m\u001b[0;34m\u001b[0m\u001b[0m\n\u001b[1;32m      4\u001b[0m \u001b[0merror_list\u001b[0m\u001b[0;34m\u001b[0m\u001b[0m\n",
      "\u001b[0;31mNameError\u001b[0m: name 'mega_dict' is not defined"
     ]
    }
   ],
   "source": [
    "# http://web.mta.info/developers/data/nyct/turnstile/turnstile_180505.txt\n",
    "test2 = pd.DataFrame(mega_dict).T\n",
    "# test2\n",
    "error_list "
   ]
  },
  {
   "cell_type": "code",
   "execution_count": 4,
   "metadata": {},
   "outputs": [],
   "source": [
    "\n",
    "doc = pd.read_csv('http://web.mta.info/developers/data/nyct/turnstile/turnstile_181201.txt')\n",
    "# rector_st_turnstiles = doc.loc[doc['STATION'] == 'BOWLING GREEN'].loc[doc['DATE'] == '11/30/2018']\n",
    "# set(rector_st_turnstiles.SCP)\n",
    "# turnstile_1 = doc.loc[doc['STATION'] == 'RECTOR ST'].loc[doc['DATE'] == '11/30/2018'].loc[doc['SCP']=='00-06-01'].loc[doc['LINENAME'] == '1']\n",
    "# turnstile_1\n",
    "# turnstile_1.sort_values(by='TIME')\n",
    "\n",
    "# first_entry_set = turnstile_1.sort_values(by='TIME')\n",
    "# last_entry_set = turnstile_1.sort_values(by='TIME')\n",
    "\n",
    "# first_entry_set"
   ]
  },
  {
   "cell_type": "code",
   "execution_count": 5,
   "metadata": {},
   "outputs": [
    {
     "ename": "NameError",
     "evalue": "name 'mega_dict' is not defined",
     "output_type": "error",
     "traceback": [
      "\u001b[0;31m---------------------------------------------------------------------------\u001b[0m",
      "\u001b[0;31mNameError\u001b[0m                                 Traceback (most recent call last)",
      "\u001b[0;32m<ipython-input-5-633ca748076a>\u001b[0m in \u001b[0;36m<module>\u001b[0;34m()\u001b[0m\n\u001b[1;32m      1\u001b[0m \u001b[0mdoc\u001b[0m\u001b[0;34m.\u001b[0m\u001b[0mhead\u001b[0m\u001b[0;34m(\u001b[0m\u001b[0;34m)\u001b[0m\u001b[0;34m\u001b[0m\u001b[0m\n\u001b[0;32m----> 2\u001b[0;31m \u001b[0mmega_dict\u001b[0m\u001b[0;34m\u001b[0m\u001b[0m\n\u001b[0m",
      "\u001b[0;31mNameError\u001b[0m: name 'mega_dict' is not defined"
     ]
    }
   ],
   "source": [
    "doc.head()\n",
    "mega_dict\n"
   ]
  },
  {
   "cell_type": "code",
   "execution_count": null,
   "metadata": {},
   "outputs": [],
   "source": [
    "# doc.groupby(\"DATE\")"
   ]
  },
  {
   "cell_type": "code",
   "execution_count": 6,
   "metadata": {},
   "outputs": [],
   "source": [
    "bg_all = doc[doc.STATION == 'BOWLING GREEN']"
   ]
  },
  {
   "cell_type": "code",
   "execution_count": null,
   "metadata": {},
   "outputs": [],
   "source": [
    "# bg_all.head()\n",
    "# bg_all.columns"
   ]
  },
  {
   "cell_type": "code",
   "execution_count": 7,
   "metadata": {},
   "outputs": [
    {
     "name": "stderr",
     "output_type": "stream",
     "text": [
      "/Users/christophermanna/anaconda3/lib/python3.7/site-packages/pandas/core/frame.py:3781: SettingWithCopyWarning: \n",
      "A value is trying to be set on a copy of a slice from a DataFrame\n",
      "\n",
      "See the caveats in the documentation: http://pandas.pydata.org/pandas-docs/stable/indexing.html#indexing-view-versus-copy\n",
      "  return super(DataFrame, self).rename(**kwargs)\n"
     ]
    }
   ],
   "source": [
    "bg_all.rename(columns={'EXITS                                                               ': \"EXITS\"}, inplace = True)\n",
    "# bg_all.columns"
   ]
  },
  {
   "cell_type": "code",
   "execution_count": 8,
   "metadata": {},
   "outputs": [],
   "source": [
    "# bg_all.shape\n",
    "# stiles"
   ]
  },
  {
   "cell_type": "code",
   "execution_count": 9,
   "metadata": {},
   "outputs": [],
   "source": [
    "bg_sliced = bg_all[['DATE', 'SCP', 'TIME', 'ENTRIES', 'EXITS']]\n",
    "bg_grouped = bg_sliced.groupby(['DATE', 'SCP', 'TIME']).sum()\n",
    "# stiles_index = bg_grouped.reset_index()\n",
    "new_df = bg_grouped.reset_index()\n",
    "# new_df\n",
    "# stiles_index"
   ]
  },
  {
   "cell_type": "code",
   "execution_count": 10,
   "metadata": {},
   "outputs": [],
   "source": [
    "# stiles_index = stiles.reset_index()\n",
    "# stiles_index \n",
    "# stiles_index[['DATE' == 11/24/2018, 'TIME' == \"03:00:00\"]]\n",
    "# stiles.count()\n",
    "# stiles_index['DATE'].map(lambda x: 'Good' if any([word in x.lower() for word in ['awesome', 'love', 'good', 'great']]) else 'Bad').head()\n",
    "# stiles_index.loc[:, :]\n",
    "# test = stiles_index[(stiles_index.DATE == '11/24/2018') & (stiles_index.SCP == '00-00-01')]\n",
    "# test.ENTRIES[5] - test.ENTRIES[0] \n",
    "# test[test.TIME == '23:00:00'].iloc[0,4] - test[test.TIME == '03:00:00'].iloc[0,4]\n",
    "# test[test.TIME == '23:00:00'].iloc[0,3] - test[test.TIME == '03:00:00'].iloc[0,3]\n",
    "# stiles_index.head(10)\n",
    "# bg_grouped"
   ]
  },
  {
   "cell_type": "code",
   "execution_count": 11,
   "metadata": {},
   "outputs": [],
   "source": []
  },
  {
   "cell_type": "code",
   "execution_count": 64,
   "metadata": {},
   "outputs": [],
   "source": [
    "# get_turnstile_data('http://web.mta.info/developers/data/nyct/turnstile/turnstile_180505.txt')"
   ]
  },
  {
   "cell_type": "code",
   "execution_count": 215,
   "metadata": {},
   "outputs": [],
   "source": [
    "# import pdb \n",
    "# stiles = stiles_index.SCP.unique()\n",
    "# dates = stiles_index.DATE.unique()\n",
    "\n",
    "# e_e_dict = dict.fromkeys(dates)\n",
    "# for k in e_e_dict: \n",
    "#     e_e_dict[k] =  {'ENTRIES': 0, 'EXITS': 0}\n",
    "\n",
    "# for date in dates: \n",
    "#     date_entries = 0 \n",
    "#     date_exits = 0 \n",
    "#     for stile in stiles: \n",
    "#         test = stiles_index[(stiles_index.DATE == date) & (stiles_index.SCP == stile)]\n",
    "#         entries =  test[test.TIME == '23:00:00'].iloc[0,3] - test[test.TIME == '03:00:00'].iloc[0,3]\n",
    "#         exits = test[test.TIME == '23:00:00'].iloc[0,4] - test[test.TIME == '03:00:00'].iloc[0,4]\n",
    "#         date_entries += entries \n",
    "#         date_exits += exits \n",
    "#         e_e_dict[date]['ENTRIES'] = date_entries \n",
    "#         e_e_dict[date]['EXITS'] = date_exits"
   ]
  },
  {
   "cell_type": "markdown",
   "metadata": {},
   "source": [
    "{'11/24/2018': {'ENTRIES': 6725, 'EXITS': 5047}, '11/25/2018': {'ENTRIES': 5445, 'EXITS': 4473}, '11/26/2018': {'ENTRIES': 28650, 'EXITS': 24525}, '11/27/2018': {'ENTRIES': 32353, 'EXITS': 27731}, '11/28/2018': {'ENTRIES': 31074, 'EXITS': 27136}, '11/29/2018': {'ENTRIES': 31748, 'EXITS': 27544}, '11/30/2018': {'ENTRIES': 29433, 'EXITS': 25669}}\n"
   ]
  },
  {
   "cell_type": "code",
   "execution_count": 216,
   "metadata": {},
   "outputs": [
    {
     "data": {
      "text/plain": [
       "{'11/24/2018': {'ENTRIES': 6725, 'EXITS': 5047},\n",
       " '11/25/2018': {'ENTRIES': 5445, 'EXITS': 4473},\n",
       " '11/26/2018': {'ENTRIES': 28650, 'EXITS': 24525},\n",
       " '11/27/2018': {'ENTRIES': 32353, 'EXITS': 27731},\n",
       " '11/28/2018': {'ENTRIES': 31074, 'EXITS': 27136},\n",
       " '11/29/2018': {'ENTRIES': 31748, 'EXITS': 27544},\n",
       " '11/30/2018': {'ENTRIES': 29433, 'EXITS': 25669}}"
      ]
     },
     "execution_count": 216,
     "metadata": {},
     "output_type": "execute_result"
    }
   ],
   "source": [
    "e_e_dict"
   ]
  },
  {
   "cell_type": "code",
   "execution_count": null,
   "metadata": {},
   "outputs": [],
   "source": [
    "            sorted_stiles = test.sort_values(by = \"TIME\")\n",
    "#             pdb.set_trace()\n",
    "            if sorted_stiles.iloc[-1].EXITS and sorted_stiles.iloc[0].EXITS and sorted_stiles.iloc[-1].ENTRIES and sorted_stiles.iloc[0].ENTRIES:\n",
    "                entries =  sorted_stiles.iloc[-1].ENTRIES - sorted_stiles.iloc[0].ENTRIES\n",
    "                exits = sorted_stiles.iloc[-1].EXITS - sorted_stiles.iloc[0].EXITS\n",
    "            else: \n",
    "                entries = 0\n",
    "                exits = 0 \n",
    "                \n",
    "            date_entries += entries \n",
    "            date_exits += exits \n",
    "            e_e_dict[date]['ENTRIES'] = date_entries \n",
    "            e_e_dict[date]['EXITS'] = date_exits"
   ]
  },
  {
   "cell_type": "code",
   "execution_count": 54,
   "metadata": {},
   "outputs": [
    {
     "data": {
      "text/plain": [
       "['04/29/2018', '01-05-00', '04/29/2018', '01-05-00']"
      ]
     },
     "execution_count": 54,
     "metadata": {},
     "output_type": "execute_result"
    }
   ],
   "source": [
    "error_list "
   ]
  },
  {
   "cell_type": "code",
   "execution_count": 12,
   "metadata": {},
   "outputs": [
    {
     "ename": "NameError",
     "evalue": "name 'mega_dict' is not defined",
     "output_type": "error",
     "traceback": [
      "\u001b[0;31m---------------------------------------------------------------------------\u001b[0m",
      "\u001b[0;31mNameError\u001b[0m                                 Traceback (most recent call last)",
      "\u001b[0;32m<ipython-input-12-54d1b4c066a7>\u001b[0m in \u001b[0;36m<module>\u001b[0;34m()\u001b[0m\n\u001b[0;32m----> 1\u001b[0;31m \u001b[0mmega_dict\u001b[0m\u001b[0;34m\u001b[0m\u001b[0m\n\u001b[0m",
      "\u001b[0;31mNameError\u001b[0m: name 'mega_dict' is not defined"
     ]
    }
   ],
   "source": [
    "mega_dict"
   ]
  },
  {
   "cell_type": "code",
   "execution_count": null,
   "metadata": {},
   "outputs": [],
   "source": []
  }
 ],
 "metadata": {
  "kernelspec": {
   "display_name": "Python 3",
   "language": "python",
   "name": "python3"
  }
 },
 "nbformat": 4,
 "nbformat_minor": 2
}
