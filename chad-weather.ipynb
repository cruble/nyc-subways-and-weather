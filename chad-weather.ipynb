{
 "cells": [
  {
   "cell_type": "code",
   "execution_count": 1,
   "metadata": {},
   "outputs": [],
   "source": [
    "import folium\n",
    "from folium import plugins\n",
    "import pandas as pd\n",
    "import matplotlib.pyplot as plt\n",
    "import seaborn as sns\n",
    "# from turnstile_data import bg_daily_totals "
   ]
  },
  {
   "cell_type": "code",
   "execution_count": 2,
   "metadata": {},
   "outputs": [],
   "source": [
    "weather = pd.read_csv('1563413.csv')"
   ]
  },
  {
   "cell_type": "code",
   "execution_count": 3,
   "metadata": {},
   "outputs": [],
   "source": [
    "stations = weather[['STATION', 'LATITUDE', 'LONGITUDE']]"
   ]
  },
  {
   "cell_type": "code",
   "execution_count": 4,
   "metadata": {},
   "outputs": [
    {
     "data": {
      "text/plain": [
       "numpy.float64"
      ]
     },
     "execution_count": 4,
     "metadata": {},
     "output_type": "execute_result"
    }
   ],
   "source": [
    "stations.head()\n",
    "type(stations.LATITUDE[0])"
   ]
  },
  {
   "cell_type": "code",
   "execution_count": 5,
   "metadata": {},
   "outputs": [
    {
     "data": {
      "text/plain": [
       "[40.77898, -73.96925]"
      ]
     },
     "execution_count": 5,
     "metadata": {},
     "output_type": "execute_result"
    }
   ],
   "source": [
    "[40.77898, -73.96925]"
   ]
  },
  {
   "cell_type": "code",
   "execution_count": 6,
   "metadata": {},
   "outputs": [
    {
     "data": {
      "text/plain": [
       "Index(['STATION', 'LATITUDE', 'LONGITUDE', 'ELEVATION', 'DATE', 'DAPR', 'MDPR',\n",
       "       'PRCP', 'SNOW', 'SNWD', 'TAVG', 'TMAX', 'TMIN', 'TOBS', 'TSUN', 'WT01',\n",
       "       'WT02', 'WT03', 'WT04', 'WT05', 'WT06', 'WT08', 'WT09', 'WT11'],\n",
       "      dtype='object')"
      ]
     },
     "execution_count": 6,
     "metadata": {},
     "output_type": "execute_result"
    }
   ],
   "source": [
    "ny_stations = weather[weather.LONGITUDE == -73.96925]\n",
    "original_columns = ny_stations.columns \n",
    "original_columns"
   ]
  },
  {
   "cell_type": "code",
   "execution_count": 21,
   "metadata": {},
   "outputs": [
    {
     "name": "stderr",
     "output_type": "stream",
     "text": [
      "/anaconda3/lib/python3.7/site-packages/ipykernel_launcher.py:9: SettingWithCopyWarning: \n",
      "A value is trying to be set on a copy of a slice from a DataFrame.\n",
      "Try using .loc[row_indexer,col_indexer] = value instead\n",
      "\n",
      "See the caveats in the documentation: http://pandas.pydata.org/pandas-docs/stable/indexing.html#indexing-view-versus-copy\n",
      "  if __name__ == '__main__':\n"
     ]
    },
    {
     "data": {
      "text/html": [
       "<div>\n",
       "<style scoped>\n",
       "    .dataframe tbody tr th:only-of-type {\n",
       "        vertical-align: middle;\n",
       "    }\n",
       "\n",
       "    .dataframe tbody tr th {\n",
       "        vertical-align: top;\n",
       "    }\n",
       "\n",
       "    .dataframe thead th {\n",
       "        text-align: right;\n",
       "    }\n",
       "</style>\n",
       "<table border=\"1\" class=\"dataframe\">\n",
       "  <thead>\n",
       "    <tr style=\"text-align: right;\">\n",
       "      <th></th>\n",
       "      <th>DATE</th>\n",
       "      <th>PRCP</th>\n",
       "      <th>SNOW</th>\n",
       "      <th>SNWD</th>\n",
       "      <th>TMAX</th>\n",
       "      <th>TMIN</th>\n",
       "    </tr>\n",
       "  </thead>\n",
       "  <tbody>\n",
       "    <tr>\n",
       "      <th>25155</th>\n",
       "      <td>12/01/2017</td>\n",
       "      <td>0.00</td>\n",
       "      <td>0.0</td>\n",
       "      <td>0.0</td>\n",
       "      <td>52.0</td>\n",
       "      <td>42.0</td>\n",
       "    </tr>\n",
       "    <tr>\n",
       "      <th>25156</th>\n",
       "      <td>12/02/2017</td>\n",
       "      <td>0.00</td>\n",
       "      <td>0.0</td>\n",
       "      <td>0.0</td>\n",
       "      <td>48.0</td>\n",
       "      <td>39.0</td>\n",
       "    </tr>\n",
       "    <tr>\n",
       "      <th>25157</th>\n",
       "      <td>12/03/2017</td>\n",
       "      <td>0.00</td>\n",
       "      <td>0.0</td>\n",
       "      <td>0.0</td>\n",
       "      <td>48.0</td>\n",
       "      <td>42.0</td>\n",
       "    </tr>\n",
       "    <tr>\n",
       "      <th>25158</th>\n",
       "      <td>12/04/2017</td>\n",
       "      <td>0.00</td>\n",
       "      <td>0.0</td>\n",
       "      <td>0.0</td>\n",
       "      <td>51.0</td>\n",
       "      <td>40.0</td>\n",
       "    </tr>\n",
       "    <tr>\n",
       "      <th>25159</th>\n",
       "      <td>12/05/2017</td>\n",
       "      <td>0.75</td>\n",
       "      <td>0.0</td>\n",
       "      <td>0.0</td>\n",
       "      <td>61.0</td>\n",
       "      <td>50.0</td>\n",
       "    </tr>\n",
       "  </tbody>\n",
       "</table>\n",
       "</div>"
      ],
      "text/plain": [
       "             DATE  PRCP  SNOW  SNWD  TMAX  TMIN\n",
       "25155  12/01/2017  0.00   0.0   0.0  52.0  42.0\n",
       "25156  12/02/2017  0.00   0.0   0.0  48.0  39.0\n",
       "25157  12/03/2017  0.00   0.0   0.0  48.0  42.0\n",
       "25158  12/04/2017  0.00   0.0   0.0  51.0  40.0\n",
       "25159  12/05/2017  0.75   0.0   0.0  61.0  50.0"
      ]
     },
     "execution_count": 21,
     "metadata": {},
     "output_type": "execute_result"
    }
   ],
   "source": [
    "ny_dates = ny_stations[['DATE', 'PRCP', 'SNOW', 'SNWD', 'TMAX', 'TMIN']]\n",
    "# ny_dates.head()\n",
    "# ny_stations.DATE[0:1]\n",
    "def format_date(x):\n",
    "    split_string = x.split('-')\n",
    "    return split_string[1] + '/' + split_string[2] + '/' + split_string[0]\n",
    "\n",
    "# datetime_object = datetime.strptime('Jun 1 2005  1:33PM', '%b %d %Y %I:%M%p') \n",
    "ny_dates['DATE'] = ny_dates['DATE'].map(lambda x: format_date(x))\n",
    "# # str.replace(old, new[, max])\n",
    "# single_date = ny_stations.iloc[1,:].DATE\n",
    "# format_string = single_date.replace('-', '/')\n",
    "# format_date(ny_stations.iloc[2,:].DATE)\n",
    "# ny_stations.head()\n",
    "ny_dates.head()"
   ]
  },
  {
   "cell_type": "code",
   "execution_count": 8,
   "metadata": {},
   "outputs": [
    {
     "ename": "SyntaxError",
     "evalue": "invalid syntax (<ipython-input-8-15295eac78f0>, line 1)",
     "output_type": "error",
     "traceback": [
      "\u001b[0;36m  File \u001b[0;32m\"<ipython-input-8-15295eac78f0>\"\u001b[0;36m, line \u001b[0;32m1\u001b[0m\n\u001b[0;31m    PRCP = Precipitation (mm or inches as per user preference, inches to hundredths on Daily Form pdf file)\u001b[0m\n\u001b[0m                                        ^\u001b[0m\n\u001b[0;31mSyntaxError\u001b[0m\u001b[0;31m:\u001b[0m invalid syntax\n"
     ]
    }
   ],
   "source": [
    "PRCP = Precipitation (mm or inches as per user preference, inches to hundredths on Daily Form pdf file)\n",
    "SNOW = Snowfall (mm or inches as per user preference, inches to tenths on Daily Form pdf file)\n",
    "SNWD = Snow depth (mm or inches as per user preference, inches on Daily Form pdf file)\n",
    "TMAX = Maximum temperature (Fahrenheit or Celsius as per user preference, Fahrenheit to tenths on\n",
    "Daily Form pdf file\n",
    "TMIN = Minimum temperature (Fahrenheit or Celsius as per user preference, Fahrenheit to tenths on\n",
    "Daily Form pdf file"
   ]
  },
  {
   "cell_type": "code",
   "execution_count": 68,
   "metadata": {},
   "outputs": [
    {
     "data": {
      "text/plain": [
       "385"
      ]
     },
     "execution_count": 68,
     "metadata": {},
     "output_type": "execute_result"
    }
   ],
   "source": [
    "# metro_dates = pd.DataFrame.from_dict(bg_daily_totals).T\n",
    "\n",
    "# metro_df.rename(columns={'index': 'DATE'}, inplace = True)\n",
    "\n",
    "# metro_dates.head()\n",
    "\n",
    "# metro_dates['new_col'] = range(0, len(metro_dates))\n",
    "\n",
    "# metro_dates['DATE'] = metro_dates.index.values\n",
    "# Out[2]: array(['a', 'b'], dtype=object)\n",
    "# metro_dates.head()\n",
    "# metro_dates.set_index('index', inplace = True)\n",
    "# metro_dates.rename(columns={'new_col': 'index'}, inplace = True)\n",
    "# metro_dates.index = metro_dates['index']\n",
    "# metro_dates['']\n",
    "# new_metro = metro_dates[['DATE', 'ENTRIES', 'EXITS']]\n",
    "# new_metro.head()\n",
    "# del new_metro.index.name\n",
    "new_metro.head()\n",
    "new_metro.tail()\n",
    "nm = new_metro.sort_values(by='DATE', ascending=False)\n",
    "nm.DATE.count()"
   ]
  },
  {
   "cell_type": "code",
   "execution_count": 43,
   "metadata": {},
   "outputs": [
    {
     "data": {
      "text/html": [
       "<div>\n",
       "<style scoped>\n",
       "    .dataframe tbody tr th:only-of-type {\n",
       "        vertical-align: middle;\n",
       "    }\n",
       "\n",
       "    .dataframe tbody tr th {\n",
       "        vertical-align: top;\n",
       "    }\n",
       "\n",
       "    .dataframe thead th {\n",
       "        text-align: right;\n",
       "    }\n",
       "</style>\n",
       "<table border=\"1\" class=\"dataframe\">\n",
       "  <thead>\n",
       "    <tr style=\"text-align: right;\">\n",
       "      <th></th>\n",
       "      <th>DATE</th>\n",
       "      <th>ENTRIES</th>\n",
       "      <th>EXITS</th>\n",
       "      <th>PRCP</th>\n",
       "      <th>SNOW</th>\n",
       "      <th>SNWD</th>\n",
       "      <th>TMAX</th>\n",
       "      <th>TMIN</th>\n",
       "    </tr>\n",
       "  </thead>\n",
       "  <tbody>\n",
       "    <tr>\n",
       "      <th>340</th>\n",
       "      <td>12/27/2017</td>\n",
       "      <td>25079</td>\n",
       "      <td>23033</td>\n",
       "      <td>0.00</td>\n",
       "      <td>0.0</td>\n",
       "      <td>0.0</td>\n",
       "      <td>24.0</td>\n",
       "      <td>17.0</td>\n",
       "    </tr>\n",
       "    <tr>\n",
       "      <th>341</th>\n",
       "      <td>12/28/2017</td>\n",
       "      <td>24550</td>\n",
       "      <td>22779</td>\n",
       "      <td>0.00</td>\n",
       "      <td>0.0</td>\n",
       "      <td>0.0</td>\n",
       "      <td>18.0</td>\n",
       "      <td>11.0</td>\n",
       "    </tr>\n",
       "    <tr>\n",
       "      <th>342</th>\n",
       "      <td>12/29/2017</td>\n",
       "      <td>22597</td>\n",
       "      <td>20966</td>\n",
       "      <td>0.00</td>\n",
       "      <td>0.0</td>\n",
       "      <td>0.0</td>\n",
       "      <td>22.0</td>\n",
       "      <td>11.0</td>\n",
       "    </tr>\n",
       "    <tr>\n",
       "      <th>334</th>\n",
       "      <td>12/30/2017</td>\n",
       "      <td>9820</td>\n",
       "      <td>9825</td>\n",
       "      <td>0.05</td>\n",
       "      <td>0.7</td>\n",
       "      <td>0.0</td>\n",
       "      <td>23.0</td>\n",
       "      <td>17.0</td>\n",
       "    </tr>\n",
       "    <tr>\n",
       "      <th>335</th>\n",
       "      <td>12/31/2017</td>\n",
       "      <td>8695</td>\n",
       "      <td>8584</td>\n",
       "      <td>0.00</td>\n",
       "      <td>0.0</td>\n",
       "      <td>0.0</td>\n",
       "      <td>21.0</td>\n",
       "      <td>9.0</td>\n",
       "    </tr>\n",
       "  </tbody>\n",
       "</table>\n",
       "</div>"
      ],
      "text/plain": [
       "           DATE  ENTRIES  EXITS  PRCP  SNOW  SNWD  TMAX  TMIN\n",
       "340  12/27/2017    25079  23033  0.00   0.0   0.0  24.0  17.0\n",
       "341  12/28/2017    24550  22779  0.00   0.0   0.0  18.0  11.0\n",
       "342  12/29/2017    22597  20966  0.00   0.0   0.0  22.0  11.0\n",
       "334  12/30/2017     9820   9825  0.05   0.7   0.0  23.0  17.0\n",
       "335  12/31/2017     8695   8584  0.00   0.0   0.0  21.0   9.0"
      ]
     },
     "execution_count": 43,
     "metadata": {},
     "output_type": "execute_result"
    }
   ],
   "source": [
    "sub_weather = pd.merge(new_metro, ny_dates, on=['DATE'])\n",
    "sub_weather.head()\n",
    "sorted_sub_weather = sub_weather.sort_values(by=\"DATE\")\n",
    "sorted_sub_weather.tail()"
   ]
  },
  {
   "cell_type": "code",
   "execution_count": 51,
   "metadata": {},
   "outputs": [
    {
     "name": "stdout",
     "output_type": "stream",
     "text": [
      "<class 'pandas.core.frame.DataFrame'>\n",
      "Int64Index: 366 entries, 25155 to 25520\n",
      "Data columns (total 6 columns):\n",
      "DATE    366 non-null object\n",
      "PRCP    366 non-null float64\n",
      "SNOW    366 non-null float64\n",
      "SNWD    366 non-null float64\n",
      "TMAX    366 non-null float64\n",
      "TMIN    366 non-null float64\n",
      "dtypes: float64(5), object(1)\n",
      "memory usage: 20.0+ KB\n"
     ]
    }
   ],
   "source": [
    "ny_dates.info()"
   ]
  },
  {
   "cell_type": "code",
   "execution_count": 52,
   "metadata": {},
   "outputs": [
    {
     "name": "stdout",
     "output_type": "stream",
     "text": [
      "<class 'pandas.core.frame.DataFrame'>\n",
      "Int64Index: 385 entries, 0 to 384\n",
      "Data columns (total 3 columns):\n",
      "DATE       385 non-null object\n",
      "ENTRIES    385 non-null int64\n",
      "EXITS      385 non-null int64\n",
      "dtypes: int64(2), object(1)\n",
      "memory usage: 12.0+ KB\n"
     ]
    }
   ],
   "source": [
    "new_metro.info()"
   ]
  },
  {
   "cell_type": "code",
   "execution_count": 71,
   "metadata": {},
   "outputs": [
    {
     "data": {
      "text/plain": [
       "str"
      ]
     },
     "execution_count": 71,
     "metadata": {},
     "output_type": "execute_result"
    }
   ],
   "source": [
    "type(sub_weather.iloc[0].DATE)"
   ]
  },
  {
   "cell_type": "code",
   "execution_count": 54,
   "metadata": {},
   "outputs": [
    {
     "name": "stdout",
     "output_type": "stream",
     "text": [
      "<class 'pandas.core.frame.DataFrame'>\n",
      "Int64Index: 365 entries, 329 to 335\n",
      "Data columns (total 8 columns):\n",
      "DATE       365 non-null object\n",
      "ENTRIES    365 non-null int64\n",
      "EXITS      365 non-null int64\n",
      "PRCP       365 non-null float64\n",
      "SNOW       365 non-null float64\n",
      "SNWD       365 non-null float64\n",
      "TMAX       365 non-null float64\n",
      "TMIN       365 non-null float64\n",
      "dtypes: float64(5), int64(2), object(1)\n",
      "memory usage: 25.7+ KB\n"
     ]
    }
   ],
   "source": [
    "sorted_sub_weather.info()"
   ]
  },
  {
   "cell_type": "code",
   "execution_count": 87,
   "metadata": {},
   "outputs": [
    {
     "data": {
      "text/html": [
       "<div>\n",
       "<style scoped>\n",
       "    .dataframe tbody tr th:only-of-type {\n",
       "        vertical-align: middle;\n",
       "    }\n",
       "\n",
       "    .dataframe tbody tr th {\n",
       "        vertical-align: top;\n",
       "    }\n",
       "\n",
       "    .dataframe thead th {\n",
       "        text-align: right;\n",
       "    }\n",
       "</style>\n",
       "<table border=\"1\" class=\"dataframe\">\n",
       "  <thead>\n",
       "    <tr style=\"text-align: right;\">\n",
       "      <th></th>\n",
       "      <th>DATE</th>\n",
       "      <th>ENTRIES</th>\n",
       "      <th>EXITS</th>\n",
       "      <th>PRCP</th>\n",
       "      <th>SNOW</th>\n",
       "      <th>SNWD</th>\n",
       "      <th>TMAX</th>\n",
       "      <th>TMIN</th>\n",
       "      <th>DATE2</th>\n",
       "    </tr>\n",
       "  </thead>\n",
       "  <tbody>\n",
       "    <tr>\n",
       "      <th>0</th>\n",
       "      <td>11/24/2018</td>\n",
       "      <td>6725</td>\n",
       "      <td>5047</td>\n",
       "      <td>0.97</td>\n",
       "      <td>0.0</td>\n",
       "      <td>0.0</td>\n",
       "      <td>49.0</td>\n",
       "      <td>31.0</td>\n",
       "      <td>2018-11-24</td>\n",
       "    </tr>\n",
       "    <tr>\n",
       "      <th>1</th>\n",
       "      <td>11/25/2018</td>\n",
       "      <td>5445</td>\n",
       "      <td>4473</td>\n",
       "      <td>0.81</td>\n",
       "      <td>0.0</td>\n",
       "      <td>0.0</td>\n",
       "      <td>55.0</td>\n",
       "      <td>45.0</td>\n",
       "      <td>2018-11-25</td>\n",
       "    </tr>\n",
       "    <tr>\n",
       "      <th>2</th>\n",
       "      <td>11/26/2018</td>\n",
       "      <td>28650</td>\n",
       "      <td>24525</td>\n",
       "      <td>0.85</td>\n",
       "      <td>0.0</td>\n",
       "      <td>0.0</td>\n",
       "      <td>53.0</td>\n",
       "      <td>45.0</td>\n",
       "      <td>2018-11-26</td>\n",
       "    </tr>\n",
       "    <tr>\n",
       "      <th>3</th>\n",
       "      <td>11/27/2018</td>\n",
       "      <td>32353</td>\n",
       "      <td>27731</td>\n",
       "      <td>0.03</td>\n",
       "      <td>0.0</td>\n",
       "      <td>0.0</td>\n",
       "      <td>45.0</td>\n",
       "      <td>37.0</td>\n",
       "      <td>2018-11-27</td>\n",
       "    </tr>\n",
       "    <tr>\n",
       "      <th>4</th>\n",
       "      <td>11/28/2018</td>\n",
       "      <td>31074</td>\n",
       "      <td>27136</td>\n",
       "      <td>0.00</td>\n",
       "      <td>0.0</td>\n",
       "      <td>0.0</td>\n",
       "      <td>42.0</td>\n",
       "      <td>36.0</td>\n",
       "      <td>2018-11-28</td>\n",
       "    </tr>\n",
       "  </tbody>\n",
       "</table>\n",
       "</div>"
      ],
      "text/plain": [
       "         DATE  ENTRIES  EXITS  PRCP  SNOW  SNWD  TMAX  TMIN      DATE2\n",
       "0  11/24/2018     6725   5047  0.97   0.0   0.0  49.0  31.0 2018-11-24\n",
       "1  11/25/2018     5445   4473  0.81   0.0   0.0  55.0  45.0 2018-11-25\n",
       "2  11/26/2018    28650  24525  0.85   0.0   0.0  53.0  45.0 2018-11-26\n",
       "3  11/27/2018    32353  27731  0.03   0.0   0.0  45.0  37.0 2018-11-27\n",
       "4  11/28/2018    31074  27136  0.00   0.0   0.0  42.0  36.0 2018-11-28"
      ]
     },
     "execution_count": 87,
     "metadata": {},
     "output_type": "execute_result"
    }
   ],
   "source": [
    "# df['new'] = pd.to_datetime(df['from'].str[4:-4].radd('2017-'), format='%Y-%d. %b, %H:%M')\n",
    "# print (df)\n",
    "# sub_weather_backup = sub_weather \n",
    "# sub_weather_backup2 = sub_weather_backup\n",
    "# sub_weather_backup2.head()"
   ]
  },
  {
   "cell_type": "code",
   "execution_count": 77,
   "metadata": {},
   "outputs": [],
   "source": [
    "# sub_weather['DATE2'] = sub_weather.to_datetime(sub_weather['DATE'], format='%m/%d/%y')\n",
    "# sub_weather_backup['DATE2'] = pd.to_datetime(sub_weather.DATE)"
   ]
  },
  {
   "cell_type": "code",
   "execution_count": 91,
   "metadata": {},
   "outputs": [
    {
     "data": {
      "text/plain": [
       "Index(['DATE', 'ENTRIES', 'EXITS', 'PRCP', 'SNOW', 'SNWD', 'TMAX', 'TMIN',\n",
       "       'DATE2'],\n",
       "      dtype='object')"
      ]
     },
     "execution_count": 91,
     "metadata": {},
     "output_type": "execute_result"
    }
   ],
   "source": [
    "# sorted_mega2 = sub_weather_backup2.sort_values(by='DATE2')\n",
    "# sorted_mega.rename(columns={'DATE2': 'DATE'}, inplace = True)\n",
    "sorted_mega2.columns"
   ]
  },
  {
   "cell_type": "code",
   "execution_count": 92,
   "metadata": {},
   "outputs": [],
   "source": [
    "sorted_mega2.head()\n",
    "sorted_mega2.reset_index()\n",
    "bowling_green_master = sorted_mega2[['DATE2', 'ENTRIES', 'EXITS', 'PRCP', 'SNOW', 'SNWD', 'TMAX', 'TMIN']]"
   ]
  },
  {
   "cell_type": "code",
   "execution_count": 102,
   "metadata": {},
   "outputs": [],
   "source": [
    "# bowling_green_master.reset_index(drop=True)\n",
    "bowling_green_master.to_csv('bg_master_1.csv')\n",
    "# bowling_green_"
   ]
  },
  {
   "cell_type": "code",
   "execution_count": 99,
   "metadata": {},
   "outputs": [],
   "source": [
    "bowling_green_master.reset_index(drop=True, inplace=True)"
   ]
  },
  {
   "cell_type": "code",
   "execution_count": 101,
   "metadata": {},
   "outputs": [
    {
     "data": {
      "text/html": [
       "<div>\n",
       "<style scoped>\n",
       "    .dataframe tbody tr th:only-of-type {\n",
       "        vertical-align: middle;\n",
       "    }\n",
       "\n",
       "    .dataframe tbody tr th {\n",
       "        vertical-align: top;\n",
       "    }\n",
       "\n",
       "    .dataframe thead th {\n",
       "        text-align: right;\n",
       "    }\n",
       "</style>\n",
       "<table border=\"1\" class=\"dataframe\">\n",
       "  <thead>\n",
       "    <tr style=\"text-align: right;\">\n",
       "      <th></th>\n",
       "      <th>DATE2</th>\n",
       "      <th>ENTRIES</th>\n",
       "      <th>EXITS</th>\n",
       "      <th>PRCP</th>\n",
       "      <th>SNOW</th>\n",
       "      <th>SNWD</th>\n",
       "      <th>TMAX</th>\n",
       "      <th>TMIN</th>\n",
       "    </tr>\n",
       "  </thead>\n",
       "  <tbody>\n",
       "    <tr>\n",
       "      <th>360</th>\n",
       "      <td>2018-11-26</td>\n",
       "      <td>28650</td>\n",
       "      <td>24525</td>\n",
       "      <td>0.85</td>\n",
       "      <td>0.0</td>\n",
       "      <td>0.0</td>\n",
       "      <td>53.0</td>\n",
       "      <td>45.0</td>\n",
       "    </tr>\n",
       "    <tr>\n",
       "      <th>361</th>\n",
       "      <td>2018-11-27</td>\n",
       "      <td>32353</td>\n",
       "      <td>27731</td>\n",
       "      <td>0.03</td>\n",
       "      <td>0.0</td>\n",
       "      <td>0.0</td>\n",
       "      <td>45.0</td>\n",
       "      <td>37.0</td>\n",
       "    </tr>\n",
       "    <tr>\n",
       "      <th>362</th>\n",
       "      <td>2018-11-28</td>\n",
       "      <td>31074</td>\n",
       "      <td>27136</td>\n",
       "      <td>0.00</td>\n",
       "      <td>0.0</td>\n",
       "      <td>0.0</td>\n",
       "      <td>42.0</td>\n",
       "      <td>36.0</td>\n",
       "    </tr>\n",
       "    <tr>\n",
       "      <th>363</th>\n",
       "      <td>2018-11-29</td>\n",
       "      <td>31748</td>\n",
       "      <td>27544</td>\n",
       "      <td>0.00</td>\n",
       "      <td>0.0</td>\n",
       "      <td>0.0</td>\n",
       "      <td>46.0</td>\n",
       "      <td>38.0</td>\n",
       "    </tr>\n",
       "    <tr>\n",
       "      <th>364</th>\n",
       "      <td>2018-11-30</td>\n",
       "      <td>29433</td>\n",
       "      <td>25669</td>\n",
       "      <td>0.02</td>\n",
       "      <td>0.0</td>\n",
       "      <td>0.0</td>\n",
       "      <td>43.0</td>\n",
       "      <td>38.0</td>\n",
       "    </tr>\n",
       "  </tbody>\n",
       "</table>\n",
       "</div>"
      ],
      "text/plain": [
       "         DATE2  ENTRIES  EXITS  PRCP  SNOW  SNWD  TMAX  TMIN\n",
       "360 2018-11-26    28650  24525  0.85   0.0   0.0  53.0  45.0\n",
       "361 2018-11-27    32353  27731  0.03   0.0   0.0  45.0  37.0\n",
       "362 2018-11-28    31074  27136  0.00   0.0   0.0  42.0  36.0\n",
       "363 2018-11-29    31748  27544  0.00   0.0   0.0  46.0  38.0\n",
       "364 2018-11-30    29433  25669  0.02   0.0   0.0  43.0  38.0"
      ]
     },
     "execution_count": 101,
     "metadata": {},
     "output_type": "execute_result"
    }
   ],
   "source": [
    "bowling_green_master.tail()"
   ]
  },
  {
   "cell_type": "code",
   "execution_count": null,
   "metadata": {},
   "outputs": [],
   "source": []
  }
 ],
 "metadata": {
  "kernelspec": {
   "display_name": "Python 3",
   "language": "python",
   "name": "python3"
  },
  "language_info": {
   "codemirror_mode": {
    "name": "ipython",
    "version": 3
   },
   "file_extension": ".py",
   "mimetype": "text/x-python",
   "name": "python",
   "nbconvert_exporter": "python",
   "pygments_lexer": "ipython3",
   "version": "3.7.0"
  }
 },
 "nbformat": 4,
 "nbformat_minor": 2
}
